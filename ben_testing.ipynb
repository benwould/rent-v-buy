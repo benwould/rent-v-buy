{
 "cells": [
  {
   "cell_type": "code",
   "execution_count": 1,
   "id": "03e0e31d-e2dd-4a19-ae79-07a24bf7cad7",
   "metadata": {},
   "outputs": [],
   "source": [
    "# work on tax rates\n",
    "import pandas as pd\n",
    "import app\n",
    "main_df = app.get_main_df()\n",
    "main_df.reset_index(inplace=True)\n",
    "#main_df.head(500)\n"
   ]
  },
  {
   "cell_type": "code",
   "execution_count": 2,
   "id": "25d5e164-0401-41ee-a9ec-9d60ac9e9cfb",
   "metadata": {},
   "outputs": [
    {
     "name": "stdout",
     "output_type": "stream",
     "text": [
      "   Home Price($)  Down Payment(%)  Loan Amount($)  Interest Rate(%)  \\\n",
      "1         535958                5        509160.1             6.300   \n",
      "2         535958               20        428766.4             5.831   \n",
      "3         535958                5        509160.1             7.500   \n",
      "4         535958               20        428766.4             7.015   \n",
      "\n",
      "   Loan Duration(months)  Monthly Principal (P&I)  Monthly Taxes  \\\n",
      "1                    180              4379.542212        803.937   \n",
      "2                    180              3579.143459        803.937   \n",
      "3                    360              3560.121291        803.937   \n",
      "4                    360              2856.914235        803.937   \n",
      "\n",
      "   Total Monthly Payment  Total Cost of Loan  Total Interest Paid  \n",
      "1            5183.479212        7.883176e+05         4.811563e+05  \n",
      "2            4383.080459        6.442458e+05         3.750205e+05  \n",
      "3            4364.058291        1.281644e+06         1.145610e+06  \n",
      "4            3660.851235        1.028489e+06         9.023389e+05  \n"
     ]
    }
   ],
   "source": [
    "city = 'Austin, TX'\n",
    "df = app.calc_mortgage(city=city)\n",
    "#df.to_csv('test.csv')\n",
    "print(df.head())"
   ]
  },
  {
   "cell_type": "code",
   "execution_count": null,
   "id": "0a226a53-f2f2-4665-8876-13ba472d2552",
   "metadata": {},
   "outputs": [],
   "source": []
  },
  {
   "cell_type": "code",
   "execution_count": null,
   "id": "7ebf7cff-4a68-4e10-9dca-80720fdf7153",
   "metadata": {},
   "outputs": [],
   "source": []
  }
 ],
 "metadata": {
  "kernelspec": {
   "display_name": "Python 3 (ipykernel)",
   "language": "python",
   "name": "python3"
  },
  "language_info": {
   "codemirror_mode": {
    "name": "ipython",
    "version": 3
   },
   "file_extension": ".py",
   "mimetype": "text/x-python",
   "name": "python",
   "nbconvert_exporter": "python",
   "pygments_lexer": "ipython3",
   "version": "3.9.13"
  }
 },
 "nbformat": 4,
 "nbformat_minor": 5
}

{
 "cells": [
  {
   "cell_type": "code",
   "execution_count": 1,
   "id": "03e0e31d-e2dd-4a19-ae79-07a24bf7cad7",
   "metadata": {},
   "outputs": [],
   "source": [
    "# work on tax rates\n",
    "import pandas as pd\n",
    "import app\n",
    "main_df = app.get_main_df()\n",
    "main_df.reset_index(inplace=True)\n",
    "#main_df.head(500)\n"
   ]
  },
  {
   "cell_type": "code",
   "execution_count": null,
   "id": "25d5e164-0401-41ee-a9ec-9d60ac9e9cfb",
   "metadata": {},
   "outputs": [],
   "source": [
    "city = 'Austin, TX'\n",
    "df = app.calc_mortgage(city=city)\n",
    "df.to_csv('test.csv')\n",
    "print(df.head())"
   ]
  },
  {
   "cell_type": "code",
   "execution_count": null,
   "id": "7ebf7cff-4a68-4e10-9dca-80720fdf7153",
   "metadata": {},
   "outputs": [],
   "source": []
  },
  {
   "cell_type": "code",
   "execution_count": 4,
   "outputs": [],
   "source": [
    "df = app.amort_schedule(428766,0.07015,360)"
   ],
   "metadata": {
    "collapsed": false
   }
  },
  {
   "cell_type": "code",
   "execution_count": 6,
   "outputs": [
    {
     "data": {
      "text/plain": "     period  interest  principal  cumulative_interest  cumulative_principal\n356   356.0     82.07    2774.84            599558.62             417501.34\n357   357.0     65.85    2791.06            599624.47             420292.40\n358   358.0     49.54    2807.37            599674.01             423099.77\n359   359.0     33.12    2823.79            599707.13             425923.56\n360   360.0     16.62    2840.29            599723.75             428763.85",
      "text/html": "<div>\n<style scoped>\n    .dataframe tbody tr th:only-of-type {\n        vertical-align: middle;\n    }\n\n    .dataframe tbody tr th {\n        vertical-align: top;\n    }\n\n    .dataframe thead th {\n        text-align: right;\n    }\n</style>\n<table border=\"1\" class=\"dataframe\">\n  <thead>\n    <tr style=\"text-align: right;\">\n      <th></th>\n      <th>period</th>\n      <th>interest</th>\n      <th>principal</th>\n      <th>cumulative_interest</th>\n      <th>cumulative_principal</th>\n    </tr>\n  </thead>\n  <tbody>\n    <tr>\n      <th>356</th>\n      <td>356.0</td>\n      <td>82.07</td>\n      <td>2774.84</td>\n      <td>599558.62</td>\n      <td>417501.34</td>\n    </tr>\n    <tr>\n      <th>357</th>\n      <td>357.0</td>\n      <td>65.85</td>\n      <td>2791.06</td>\n      <td>599624.47</td>\n      <td>420292.40</td>\n    </tr>\n    <tr>\n      <th>358</th>\n      <td>358.0</td>\n      <td>49.54</td>\n      <td>2807.37</td>\n      <td>599674.01</td>\n      <td>423099.77</td>\n    </tr>\n    <tr>\n      <th>359</th>\n      <td>359.0</td>\n      <td>33.12</td>\n      <td>2823.79</td>\n      <td>599707.13</td>\n      <td>425923.56</td>\n    </tr>\n    <tr>\n      <th>360</th>\n      <td>360.0</td>\n      <td>16.62</td>\n      <td>2840.29</td>\n      <td>599723.75</td>\n      <td>428763.85</td>\n    </tr>\n  </tbody>\n</table>\n</div>"
     },
     "execution_count": 6,
     "metadata": {},
     "output_type": "execute_result"
    }
   ],
   "source": [
    "df.tail()"
   ],
   "metadata": {
    "collapsed": false
   }
  },
  {
   "cell_type": "code",
   "execution_count": null,
   "outputs": [],
   "source": [],
   "metadata": {
    "collapsed": false
   }
  }
 ],
 "metadata": {
  "kernelspec": {
   "display_name": "Python 3 (ipykernel)",
   "language": "python",
   "name": "python3"
  },
  "language_info": {
   "codemirror_mode": {
    "name": "ipython",
    "version": 3
   },
   "file_extension": ".py",
   "mimetype": "text/x-python",
   "name": "python",
   "nbconvert_exporter": "python",
   "pygments_lexer": "ipython3",
   "version": "3.9.13"
  }
 },
 "nbformat": 4,
 "nbformat_minor": 5
}

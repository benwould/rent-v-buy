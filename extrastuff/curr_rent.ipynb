{
 "cells": [
  {
   "cell_type": "code",
   "execution_count": 204,
   "id": "709236dd-2094-426e-b7ed-8caee7d7a89b",
   "metadata": {},
   "outputs": [],
   "source": [
    "#copied and pasted from app.py\n",
    "import pandas as pd\n",
    "import numpy as np\n",
    "from pathlib import Path\n",
    "import matplotlib\n",
    "import app\n",
    "import hvplot.pandas"
   ]
  },
  {
   "cell_type": "code",
   "execution_count": 205,
   "id": "d63ca193-2d85-4659-8736-fb5ff9e976e4",
   "metadata": {},
   "outputs": [
    {
     "data": {
      "text/html": [
       "<div>\n",
       "<style scoped>\n",
       "    .dataframe tbody tr th:only-of-type {\n",
       "        vertical-align: middle;\n",
       "    }\n",
       "\n",
       "    .dataframe tbody tr th {\n",
       "        vertical-align: top;\n",
       "    }\n",
       "\n",
       "    .dataframe thead th {\n",
       "        text-align: right;\n",
       "    }\n",
       "</style>\n",
       "<table border=\"1\" class=\"dataframe\">\n",
       "  <thead>\n",
       "    <tr style=\"text-align: right;\">\n",
       "      <th></th>\n",
       "      <th></th>\n",
       "      <th>Average Monthly Rent</th>\n",
       "      <th>Average Rent YoY</th>\n",
       "      <th>Monthly mortgage, 5% down</th>\n",
       "      <th>Monthly mortgage, 5% down YoY</th>\n",
       "      <th>Monthly mortgage, 20% down</th>\n",
       "      <th>Monthly mortgage, 20% down YoY</th>\n",
       "      <th>Median sale price</th>\n",
       "      <th>Median sale price YoY</th>\n",
       "    </tr>\n",
       "    <tr>\n",
       "      <th>Month</th>\n",
       "      <th>Region</th>\n",
       "      <th></th>\n",
       "      <th></th>\n",
       "      <th></th>\n",
       "      <th></th>\n",
       "      <th></th>\n",
       "      <th></th>\n",
       "      <th></th>\n",
       "      <th></th>\n",
       "    </tr>\n",
       "  </thead>\n",
       "  <tbody>\n",
       "    <tr>\n",
       "      <th rowspan=\"5\" valign=\"top\">2021-02-01</th>\n",
       "      <th>Austin, TX</th>\n",
       "      <td>1644</td>\n",
       "      <td>NaN</td>\n",
       "      <td>1552</td>\n",
       "      <td>NaN</td>\n",
       "      <td>1307</td>\n",
       "      <td>NaN</td>\n",
       "      <td>397184</td>\n",
       "      <td>22.2</td>\n",
       "    </tr>\n",
       "    <tr>\n",
       "      <th>Austin, TX</th>\n",
       "      <td>1644</td>\n",
       "      <td>NaN</td>\n",
       "      <td>1414</td>\n",
       "      <td>NaN</td>\n",
       "      <td>1191</td>\n",
       "      <td>NaN</td>\n",
       "      <td>361750</td>\n",
       "      <td>18.6</td>\n",
       "    </tr>\n",
       "    <tr>\n",
       "      <th>Austin, TX</th>\n",
       "      <td>1644</td>\n",
       "      <td>NaN</td>\n",
       "      <td>1810</td>\n",
       "      <td>NaN</td>\n",
       "      <td>1524</td>\n",
       "      <td>NaN</td>\n",
       "      <td>463000</td>\n",
       "      <td>12.9</td>\n",
       "    </tr>\n",
       "    <tr>\n",
       "      <th>Austin, TX</th>\n",
       "      <td>1644</td>\n",
       "      <td>NaN</td>\n",
       "      <td>1563</td>\n",
       "      <td>NaN</td>\n",
       "      <td>1317</td>\n",
       "      <td>NaN</td>\n",
       "      <td>400000</td>\n",
       "      <td>22.0</td>\n",
       "    </tr>\n",
       "    <tr>\n",
       "      <th>Austin, TX</th>\n",
       "      <td>1644</td>\n",
       "      <td>NaN</td>\n",
       "      <td>1126</td>\n",
       "      <td>NaN</td>\n",
       "      <td>948</td>\n",
       "      <td>NaN</td>\n",
       "      <td>288050</td>\n",
       "      <td>15.2</td>\n",
       "    </tr>\n",
       "  </tbody>\n",
       "</table>\n",
       "</div>"
      ],
      "text/plain": [
       "                       Average Monthly Rent  Average Rent YoY  \\\n",
       "Month      Region                                               \n",
       "2021-02-01 Austin, TX                  1644               NaN   \n",
       "           Austin, TX                  1644               NaN   \n",
       "           Austin, TX                  1644               NaN   \n",
       "           Austin, TX                  1644               NaN   \n",
       "           Austin, TX                  1644               NaN   \n",
       "\n",
       "                       Monthly mortgage, 5% down  \\\n",
       "Month      Region                                  \n",
       "2021-02-01 Austin, TX                       1552   \n",
       "           Austin, TX                       1414   \n",
       "           Austin, TX                       1810   \n",
       "           Austin, TX                       1563   \n",
       "           Austin, TX                       1126   \n",
       "\n",
       "                       Monthly mortgage, 5% down YoY  \\\n",
       "Month      Region                                      \n",
       "2021-02-01 Austin, TX                            NaN   \n",
       "           Austin, TX                            NaN   \n",
       "           Austin, TX                            NaN   \n",
       "           Austin, TX                            NaN   \n",
       "           Austin, TX                            NaN   \n",
       "\n",
       "                       Monthly mortgage, 20% down  \\\n",
       "Month      Region                                   \n",
       "2021-02-01 Austin, TX                        1307   \n",
       "           Austin, TX                        1191   \n",
       "           Austin, TX                        1524   \n",
       "           Austin, TX                        1317   \n",
       "           Austin, TX                         948   \n",
       "\n",
       "                       Monthly mortgage, 20% down YoY  Median sale price  \\\n",
       "Month      Region                                                          \n",
       "2021-02-01 Austin, TX                             NaN             397184   \n",
       "           Austin, TX                             NaN             361750   \n",
       "           Austin, TX                             NaN             463000   \n",
       "           Austin, TX                             NaN             400000   \n",
       "           Austin, TX                             NaN             288050   \n",
       "\n",
       "                       Median sale price YoY  \n",
       "Month      Region                             \n",
       "2021-02-01 Austin, TX                   22.2  \n",
       "           Austin, TX                   18.6  \n",
       "           Austin, TX                   12.9  \n",
       "           Austin, TX                   22.0  \n",
       "           Austin, TX                   15.2  "
      ]
     },
     "execution_count": 205,
     "metadata": {},
     "output_type": "execute_result"
    }
   ],
   "source": [
    "#pulling in the main_df\n",
    "main_df=app.get_main_df()\n",
    "main_df.head(5)"
   ]
  },
  {
   "cell_type": "code",
   "execution_count": 206,
   "id": "be37e33a-3d9e-44b6-83a4-d3982dd9127f",
   "metadata": {},
   "outputs": [],
   "source": [
    "#This would come from the GUI..\n",
    "user_input='Pittsburgh, PA'"
   ]
  },
  {
   "cell_type": "code",
   "execution_count": 207,
   "id": "7eb83dd9-01aa-43d2-8891-82cfe5a35be3",
   "metadata": {},
   "outputs": [],
   "source": [
    "user_input_1='Washington, DC'"
   ]
  },
  {
   "cell_type": "code",
   "execution_count": 208,
   "id": "762f0b1d-b447-475d-884e-5f127725b9d1",
   "metadata": {},
   "outputs": [
    {
     "data": {
      "text/plain": [
       "0.17714149897606135"
      ]
     },
     "execution_count": 208,
     "metadata": {},
     "output_type": "execute_result"
    }
   ],
   "source": [
    "#year over year rent is given as a percentage here. \n",
    "#Line 1 is the function name//line 2 drop columns, DROPS duplicates (left over as a reminant of the \"prop type\" column, and RESETS the index to remove 'Region'//\n",
    "#line 3 find the users selected region//line 4 calculates the month to month percentage, AVERAGES that change then annualizes the monthly change by multiplying the mean *12\n",
    "\n",
    "def yoy_rent(user_input):\n",
    "    rent=main_df.drop(columns=['Monthly mortgage, 5% down', 'Monthly mortgage, 20% down', 'Monthly mortgage, 5% down YoY', 'Monthly mortgage, 20% down YoY', 'Median sale price YoY','Average Rent YoY','Median sale price']).drop_duplicates().reset_index('Region')\n",
    "    rent=rent.loc[rent['Region']== user_input]\n",
    "    rent_change=rent['Average Monthly Rent'].pct_change().dropna().mean()*12\n",
    "    \n",
    "    return rent_change\n",
    "\n",
    "projection=yoy_rent(user_input)\n",
    "projection"
   ]
  },
  {
   "cell_type": "code",
   "execution_count": 211,
   "id": "347bc9ba-16eb-47a8-8f5a-a0f49300c1b7",
   "metadata": {},
   "outputs": [
    {
     "name": "stdout",
     "output_type": "stream",
     "text": [
      "1958\n"
     ]
    }
   ],
   "source": [
    "#This function tells the user what to expect to pay in rent in the chosen city. This function finds the most recent average monthly ren in that city (most recent data\n",
    "#on redfin_table.csv is 2022-06-01).\n",
    "\n",
    "def current(user_input):\n",
    "    current_rent=main_df.drop(columns=['Monthly mortgage, 5% down', 'Monthly mortgage, 20% down', 'Monthly mortgage, 5% down YoY', 'Monthly mortgage, 20% down YoY', 'Median sale price YoY','Average Rent YoY','Median sale price']).drop_duplicates().reset_index('Region')\n",
    "    current_rent=current_rent.loc[current_rent['Region']== user_input]\n",
    "    current_rent=current_rent.loc['2022-06-01']\n",
    "    final_rent=current_rent['Average Monthly Rent']\n",
    "      \n",
    "    return final_rent\n",
    "\n",
    "curr_rent=current(user_input)\n",
    "print(curr_rent)\n",
    "    \n"
   ]
  },
  {
   "cell_type": "code",
   "execution_count": 212,
   "id": "2812d821-43a9-4052-8350-d5db035906d2",
   "metadata": {},
   "outputs": [
    {
     "data": {
      "text/plain": [
       "2304.843054995128"
      ]
     },
     "execution_count": 212,
     "metadata": {},
     "output_type": "execute_result"
    }
   ],
   "source": [
    "#This tells the user what the city's rent could jump to based on the year over year change calculation above.\n",
    "future_rent=(curr_rent*projection)+curr_rent\n",
    "future_rent"
   ]
  },
  {
   "cell_type": "code",
   "execution_count": 213,
   "id": "d0c43551-da42-4455-a1ee-ee5d94902b65",
   "metadata": {},
   "outputs": [
    {
     "data": {
      "text/plain": [
       "<bound method NDFrame.head of                 Region  Average Monthly Rent\n",
       "Month                                       \n",
       "2021-02-01  Austin, TX                  1644\n",
       "2021-03-01  Austin, TX                  1701\n",
       "2021-04-01  Austin, TX                  1735\n",
       "2021-05-01  Austin, TX                  1824\n",
       "2021-06-01  Austin, TX                  1896\n",
       "...                ...                   ...\n",
       "2022-02-01  Boston, MA                  3586\n",
       "2022-03-01  Boston, MA                  3672\n",
       "2022-04-01  Boston, MA                  3780\n",
       "2022-05-01  Boston, MA                  3970\n",
       "2022-06-01  Boston, MA                  4031\n",
       "\n",
       "[165 rows x 2 columns]>"
      ]
     },
     "execution_count": 213,
     "metadata": {},
     "output_type": "execute_result"
    }
   ],
   "source": [
    "regional_df=main_df=app.get_main_df()\n",
    "region=regional_df.drop(columns=['Monthly mortgage, 5% down', 'Monthly mortgage, 20% down', 'Monthly mortgage, 5% down YoY', 'Monthly mortgage, 20% down YoY', 'Median sale price YoY','Average Rent YoY','Median sale price']).drop_duplicates().reset_index('Region').dropna()\n",
    "region.head"
   ]
  },
  {
   "cell_type": "code",
   "execution_count": 216,
   "id": "cb604b47-2795-4488-90ad-92e071c01968",
   "metadata": {
    "tags": []
   },
   "outputs": [],
   "source": [
    "region_0=region.loc[region['Region']== user_input].hvplot.bar(\n",
    "    color='Orange',\n",
    "    xlabel=\"Month/Year\",\n",
    "    ylabel=\"Average Rent ($)\",\n",
    "    frame_height=200,\n",
    "    frame_width=350,\n",
    "    rot=90,\n",
    "    title=\"Past Average Rent- {city1}\".format(city1=user_input)\n",
    ")\n",
    "region_1=region.loc[region['Region']== user_input_1].hvplot.bar(\n",
    "    color='Blue',\n",
    "    xlabel=\"Month/Year\",\n",
    "    ylabel='Average Rent ($)',\n",
    "    frame_height=200,\n",
    "    frame_width=350,\n",
    "    rot=90,\n",
    "    title=\"Past Average Rent- {city2}\".format(city2=user_input_1)\n",
    ")\n",
    "    "
   ]
  },
  {
   "cell_type": "code",
   "execution_count": 217,
   "id": "f3b73c2b-ba11-4150-bddf-a4d20a4270e3",
   "metadata": {},
   "outputs": [
    {
     "data": {},
     "metadata": {},
     "output_type": "display_data"
    },
    {
     "data": {
      "application/vnd.holoviews_exec.v0+json": "",
      "text/html": [
       "<div id='6909'>\n",
       "  <div class=\"bk-root\" id=\"93a91086-6a9b-477a-a2b2-55cd8a492caa\" data-root-id=\"6909\"></div>\n",
       "</div>\n",
       "<script type=\"application/javascript\">(function(root) {\n",
       "  function embed_document(root) {\n",
       "    var docs_json = {\"822ad082-9792-4b59-a061-17745fd12bca\":{\"defs\":[{\"extends\":null,\"module\":null,\"name\":\"ReactiveHTML1\",\"overrides\":[],\"properties\":[]},{\"extends\":null,\"module\":null,\"name\":\"FlexBox1\",\"overrides\":[],\"properties\":[{\"default\":\"flex-start\",\"kind\":null,\"name\":\"align_content\"},{\"default\":\"flex-start\",\"kind\":null,\"name\":\"align_items\"},{\"default\":\"row\",\"kind\":null,\"name\":\"flex_direction\"},{\"default\":\"wrap\",\"kind\":null,\"name\":\"flex_wrap\"},{\"default\":\"flex-start\",\"kind\":null,\"name\":\"justify_content\"}]},{\"extends\":null,\"module\":null,\"name\":\"GridStack1\",\"overrides\":[],\"properties\":[{\"default\":\"warn\",\"kind\":null,\"name\":\"mode\"},{\"default\":null,\"kind\":null,\"name\":\"ncols\"},{\"default\":null,\"kind\":null,\"name\":\"nrows\"},{\"default\":true,\"kind\":null,\"name\":\"allow_resize\"},{\"default\":true,\"kind\":null,\"name\":\"allow_drag\"},{\"default\":[],\"kind\":null,\"name\":\"state\"}]},{\"extends\":null,\"module\":null,\"name\":\"click1\",\"overrides\":[],\"properties\":[{\"default\":\"\",\"kind\":null,\"name\":\"terminal_output\"},{\"default\":\"\",\"kind\":null,\"name\":\"debug_name\"},{\"default\":0,\"kind\":null,\"name\":\"clears\"}]},{\"extends\":null,\"module\":null,\"name\":\"NotificationAreaBase1\",\"overrides\":[],\"properties\":[{\"default\":\"bottom-right\",\"kind\":null,\"name\":\"position\"},{\"default\":0,\"kind\":null,\"name\":\"_clear\"}]},{\"extends\":null,\"module\":null,\"name\":\"NotificationArea1\",\"overrides\":[],\"properties\":[{\"default\":[],\"kind\":null,\"name\":\"notifications\"},{\"default\":\"bottom-right\",\"kind\":null,\"name\":\"position\"},{\"default\":0,\"kind\":null,\"name\":\"_clear\"},{\"default\":[{\"background\":\"#ffc107\",\"icon\":{\"className\":\"fas fa-exclamation-triangle\",\"color\":\"white\",\"tagName\":\"i\"},\"type\":\"warning\"},{\"background\":\"#007bff\",\"icon\":{\"className\":\"fas fa-info-circle\",\"color\":\"white\",\"tagName\":\"i\"},\"type\":\"info\"}],\"kind\":null,\"name\":\"types\"}]},{\"extends\":null,\"module\":null,\"name\":\"Notification\",\"overrides\":[],\"properties\":[{\"default\":null,\"kind\":null,\"name\":\"background\"},{\"default\":3000,\"kind\":null,\"name\":\"duration\"},{\"default\":null,\"kind\":null,\"name\":\"icon\"},{\"default\":\"\",\"kind\":null,\"name\":\"message\"},{\"default\":null,\"kind\":null,\"name\":\"notification_type\"},{\"default\":false,\"kind\":null,\"name\":\"_destroyed\"}]},{\"extends\":null,\"module\":null,\"name\":\"TemplateActions1\",\"overrides\":[],\"properties\":[{\"default\":0,\"kind\":null,\"name\":\"open_modal\"},{\"default\":0,\"kind\":null,\"name\":\"close_modal\"}]},{\"extends\":null,\"module\":null,\"name\":\"MaterialTemplateActions1\",\"overrides\":[],\"properties\":[{\"default\":0,\"kind\":null,\"name\":\"open_modal\"},{\"default\":0,\"kind\":null,\"name\":\"close_modal\"}]}],\"roots\":{\"references\":[{\"attributes\":{},\"id\":\"6930\",\"type\":\"SaveTool\"},{\"attributes\":{},\"id\":\"6931\",\"type\":\"PanTool\"},{\"attributes\":{},\"id\":\"6927\",\"type\":\"BasicTicker\"},{\"attributes\":{\"factors\":[\"2021-02-01 00:00:00\",\"2021-03-01 00:00:00\",\"2021-04-01 00:00:00\",\"2021-05-01 00:00:00\",\"2021-06-01 00:00:00\",\"2021-07-01 00:00:00\",\"2021-08-01 00:00:00\",\"2021-09-01 00:00:00\",\"2021-10-01 00:00:00\",\"2021-11-01 00:00:00\",\"2021-12-01 00:00:00\",\"2022-01-01 00:00:00\",\"2022-02-01 00:00:00\",\"2022-03-01 00:00:00\",\"2022-04-01 00:00:00\",\"2022-05-01 00:00:00\",\"2022-06-01 00:00:00\"],\"tags\":[[[\"Month\",\"Month\",null]]]},\"id\":\"6911\",\"type\":\"FactorRange\"},{\"attributes\":{},\"id\":\"6965\",\"type\":\"CategoricalScale\"},{\"attributes\":{},\"id\":\"6932\",\"type\":\"WheelZoomTool\"},{\"attributes\":{},\"id\":\"6957\",\"type\":\"AllLabels\"},{\"attributes\":{\"data\":{\"Average_Monthly_Rent\":[1556,1580,1592,1677,1631,1613,1603,1602,1661,1637,1707,1740,1729,1830,1891,1937,1958],\"Month\":[\"2021-02-01 00:00:00\",\"2021-03-01 00:00:00\",\"2021-04-01 00:00:00\",\"2021-05-01 00:00:00\",\"2021-06-01 00:00:00\",\"2021-07-01 00:00:00\",\"2021-08-01 00:00:00\",\"2021-09-01 00:00:00\",\"2021-10-01 00:00:00\",\"2021-11-01 00:00:00\",\"2021-12-01 00:00:00\",\"2022-01-01 00:00:00\",\"2022-02-01 00:00:00\",\"2022-03-01 00:00:00\",\"2022-04-01 00:00:00\",\"2022-05-01 00:00:00\",\"2022-06-01 00:00:00\"]},\"selected\":{\"id\":\"6944\"},\"selection_policy\":{\"id\":\"7011\"}},\"id\":\"6943\",\"type\":\"ColumnDataSource\"},{\"attributes\":{\"overlay\":{\"id\":\"6935\"}},\"id\":\"6933\",\"type\":\"BoxZoomTool\"},{\"attributes\":{},\"id\":\"6919\",\"type\":\"CategoricalScale\"},{\"attributes\":{\"fill_alpha\":{\"value\":0.2},\"fill_color\":{\"value\":\"Orange\"},\"hatch_alpha\":{\"value\":0.2},\"hatch_color\":{\"value\":\"Orange\"},\"line_alpha\":{\"value\":0.2},\"top\":{\"field\":\"Average_Monthly_Rent\"},\"width\":{\"value\":0.8},\"x\":{\"field\":\"Month\"}},\"id\":\"6948\",\"type\":\"VBar\"},{\"attributes\":{},\"id\":\"6956\",\"type\":\"BasicTickFormatter\"},{\"attributes\":{\"below\":[{\"id\":\"6969\"}],\"center\":[{\"id\":\"6971\"},{\"id\":\"6975\"}],\"frame_height\":200,\"frame_width\":350,\"height\":null,\"left\":[{\"id\":\"6972\"}],\"margin\":null,\"min_border_bottom\":10,\"min_border_left\":10,\"min_border_right\":10,\"min_border_top\":10,\"renderers\":[{\"id\":\"6995\"}],\"sizing_mode\":\"fixed\",\"title\":{\"id\":\"6961\"},\"toolbar\":{\"id\":\"6982\"},\"toolbar_location\":null,\"width\":null,\"x_range\":{\"id\":\"6911\"},\"x_scale\":{\"id\":\"6965\"},\"y_range\":{\"id\":\"6912\"},\"y_scale\":{\"id\":\"6967\"}},\"id\":\"6960\",\"subtype\":\"Figure\",\"type\":\"Plot\"},{\"attributes\":{\"children\":[{\"id\":\"7028\"},{\"id\":\"7026\"}]},\"id\":\"7029\",\"type\":\"Column\"},{\"attributes\":{\"children\":[{\"id\":\"6910\"},{\"id\":\"7029\"},{\"id\":\"7050\"}],\"margin\":[0,0,0,0],\"name\":\"Row06883\",\"tags\":[\"embedded\"]},\"id\":\"6909\",\"type\":\"Row\"},{\"attributes\":{},\"id\":\"7011\",\"type\":\"UnionRenderers\"},{\"attributes\":{},\"id\":\"6990\",\"type\":\"Selection\"},{\"attributes\":{},\"id\":\"7000\",\"type\":\"AllLabels\"},{\"attributes\":{\"end\":2859.5,\"reset_end\":2859.5,\"reset_start\":0.0,\"tags\":[[[\"Average Monthly Rent\",\"Average Monthly Rent\",null]]]},\"id\":\"6912\",\"type\":\"Range1d\"},{\"attributes\":{\"tools\":[{\"id\":\"6913\"},{\"id\":\"6930\"},{\"id\":\"6931\"},{\"id\":\"6932\"},{\"id\":\"6933\"},{\"id\":\"6934\"}]},\"id\":\"6936\",\"type\":\"Toolbar\"},{\"attributes\":{\"axis_label\":\"Month/Year\",\"coordinates\":null,\"formatter\":{\"id\":\"6953\"},\"group\":null,\"major_label_orientation\":1.5707963267948966,\"major_label_policy\":{\"id\":\"6954\"},\"ticker\":{\"id\":\"6924\"}},\"id\":\"6923\",\"type\":\"CategoricalAxis\"},{\"attributes\":{\"callback\":null,\"renderers\":[{\"id\":\"6949\"}],\"tags\":[\"hv_created\"],\"tooltips\":[[\"Month\",\"@{Month}\"],[\"Average Monthly Rent\",\"@{Average_Monthly_Rent}\"]]},\"id\":\"6913\",\"type\":\"HoverTool\"},{\"attributes\":{\"below\":[{\"id\":\"6923\"}],\"center\":[{\"id\":\"6925\"},{\"id\":\"6929\"}],\"frame_height\":200,\"frame_width\":350,\"height\":null,\"left\":[{\"id\":\"6926\"}],\"margin\":null,\"min_border_bottom\":10,\"min_border_left\":10,\"min_border_right\":10,\"min_border_top\":10,\"renderers\":[{\"id\":\"6949\"}],\"sizing_mode\":\"fixed\",\"title\":{\"id\":\"6915\"},\"toolbar\":{\"id\":\"6936\"},\"toolbar_location\":null,\"width\":null,\"x_range\":{\"id\":\"6911\"},\"x_scale\":{\"id\":\"6919\"},\"y_range\":{\"id\":\"6912\"},\"y_scale\":{\"id\":\"6921\"}},\"id\":\"6914\",\"subtype\":\"Figure\",\"type\":\"Plot\"},{\"attributes\":{\"bottom_units\":\"screen\",\"coordinates\":null,\"fill_alpha\":0.5,\"fill_color\":\"lightgrey\",\"group\":null,\"left_units\":\"screen\",\"level\":\"overlay\",\"line_alpha\":1.0,\"line_color\":\"black\",\"line_dash\":[4,4],\"line_width\":2,\"right_units\":\"screen\",\"syncable\":false,\"top_units\":\"screen\"},\"id\":\"6935\",\"type\":\"BoxAnnotation\"},{\"attributes\":{\"bottom_units\":\"screen\",\"coordinates\":null,\"fill_alpha\":0.5,\"fill_color\":\"lightgrey\",\"group\":null,\"left_units\":\"screen\",\"level\":\"overlay\",\"line_alpha\":1.0,\"line_color\":\"black\",\"line_dash\":[4,4],\"line_width\":2,\"right_units\":\"screen\",\"syncable\":false,\"top_units\":\"screen\"},\"id\":\"6981\",\"type\":\"BoxAnnotation\"},{\"attributes\":{},\"id\":\"6970\",\"type\":\"CategoricalTicker\"},{\"attributes\":{\"coordinates\":null,\"data_source\":{\"id\":\"6943\"},\"glyph\":{\"id\":\"6946\"},\"group\":null,\"hover_glyph\":null,\"muted_glyph\":{\"id\":\"6948\"},\"nonselection_glyph\":{\"id\":\"6947\"},\"selection_glyph\":{\"id\":\"6951\"},\"view\":{\"id\":\"6950\"}},\"id\":\"6949\",\"type\":\"GlyphRenderer\"},{\"attributes\":{},\"id\":\"6934\",\"type\":\"ResetTool\"},{\"attributes\":{\"coordinates\":null,\"group\":null,\"text\":\"Past Average Rent- Pittsburgh, PA\",\"text_color\":\"black\",\"text_font_size\":\"12pt\"},\"id\":\"6915\",\"type\":\"Title\"},{\"attributes\":{},\"id\":\"6980\",\"type\":\"ResetTool\"},{\"attributes\":{},\"id\":\"6924\",\"type\":\"CategoricalTicker\"},{\"attributes\":{},\"id\":\"7002\",\"type\":\"BasicTickFormatter\"},{\"attributes\":{},\"id\":\"6976\",\"type\":\"SaveTool\"},{\"attributes\":{},\"id\":\"6944\",\"type\":\"Selection\"},{\"attributes\":{\"toolbars\":[{\"id\":\"6936\"},{\"id\":\"6982\"}],\"tools\":[{\"id\":\"6913\"},{\"id\":\"6930\"},{\"id\":\"6931\"},{\"id\":\"6932\"},{\"id\":\"6933\"},{\"id\":\"6934\"},{\"id\":\"6959\"},{\"id\":\"6976\"},{\"id\":\"6977\"},{\"id\":\"6978\"},{\"id\":\"6979\"},{\"id\":\"6980\"}]},\"id\":\"7027\",\"type\":\"ProxyToolbar\"},{\"attributes\":{},\"id\":\"6967\",\"type\":\"LinearScale\"},{\"attributes\":{},\"id\":\"6921\",\"type\":\"LinearScale\"},{\"attributes\":{\"axis\":{\"id\":\"6969\"},\"coordinates\":null,\"grid_line_color\":null,\"group\":null,\"ticker\":null},\"id\":\"6971\",\"type\":\"Grid\"},{\"attributes\":{},\"id\":\"6977\",\"type\":\"PanTool\"},{\"attributes\":{\"bottom\":{\"value\":0},\"fill_alpha\":{\"value\":1.0},\"fill_color\":{\"value\":\"Orange\"},\"hatch_alpha\":{\"value\":1.0},\"hatch_color\":{\"value\":\"Orange\"},\"hatch_scale\":{\"value\":12.0},\"hatch_weight\":{\"value\":1.0},\"line_alpha\":{\"value\":1.0},\"line_cap\":{\"value\":\"butt\"},\"line_color\":{\"value\":\"black\"},\"line_dash\":{\"value\":[]},\"line_dash_offset\":{\"value\":0},\"line_join\":{\"value\":\"bevel\"},\"line_width\":{\"value\":1},\"top\":{\"field\":\"Average_Monthly_Rent\"},\"width\":{\"value\":0.8},\"x\":{\"field\":\"Month\"}},\"id\":\"6951\",\"type\":\"VBar\"},{\"attributes\":{\"fill_alpha\":{\"value\":0.1},\"fill_color\":{\"value\":\"Orange\"},\"hatch_alpha\":{\"value\":0.1},\"hatch_color\":{\"value\":\"Orange\"},\"line_alpha\":{\"value\":0.1},\"top\":{\"field\":\"Average_Monthly_Rent\"},\"width\":{\"value\":0.8},\"x\":{\"field\":\"Month\"}},\"id\":\"6947\",\"type\":\"VBar\"},{\"attributes\":{},\"id\":\"6953\",\"type\":\"CategoricalTickFormatter\"},{\"attributes\":{\"coordinates\":null,\"data_source\":{\"id\":\"6989\"},\"glyph\":{\"id\":\"6992\"},\"group\":null,\"hover_glyph\":null,\"muted_glyph\":{\"id\":\"6994\"},\"nonselection_glyph\":{\"id\":\"6993\"},\"selection_glyph\":{\"id\":\"6997\"},\"view\":{\"id\":\"6996\"}},\"id\":\"6995\",\"type\":\"GlyphRenderer\"},{\"attributes\":{\"bottom\":{\"value\":0},\"fill_alpha\":{\"value\":1.0},\"fill_color\":{\"value\":\"Blue\"},\"hatch_alpha\":{\"value\":1.0},\"hatch_color\":{\"value\":\"Blue\"},\"hatch_scale\":{\"value\":12.0},\"hatch_weight\":{\"value\":1.0},\"line_alpha\":{\"value\":1.0},\"line_cap\":{\"value\":\"butt\"},\"line_color\":{\"value\":\"black\"},\"line_dash\":{\"value\":[]},\"line_dash_offset\":{\"value\":0},\"line_join\":{\"value\":\"bevel\"},\"line_width\":{\"value\":1},\"top\":{\"field\":\"Average_Monthly_Rent\"},\"width\":{\"value\":0.8},\"x\":{\"field\":\"Month\"}},\"id\":\"6997\",\"type\":\"VBar\"},{\"attributes\":{\"fill_alpha\":{\"value\":0.2},\"fill_color\":{\"value\":\"Blue\"},\"hatch_alpha\":{\"value\":0.2},\"hatch_color\":{\"value\":\"Blue\"},\"line_alpha\":{\"value\":0.2},\"top\":{\"field\":\"Average_Monthly_Rent\"},\"width\":{\"value\":0.8},\"x\":{\"field\":\"Month\"}},\"id\":\"6994\",\"type\":\"VBar\"},{\"attributes\":{},\"id\":\"7022\",\"type\":\"UnionRenderers\"},{\"attributes\":{\"overlay\":{\"id\":\"6981\"}},\"id\":\"6979\",\"type\":\"BoxZoomTool\"},{\"attributes\":{\"data\":{\"Average_Monthly_Rent\":[2299,2318,2370,2383,2462,2509,2513,2536,2569,2544,2538,2564,2585,2595,2614,2681,2741],\"Month\":[\"2021-02-01 00:00:00\",\"2021-03-01 00:00:00\",\"2021-04-01 00:00:00\",\"2021-05-01 00:00:00\",\"2021-06-01 00:00:00\",\"2021-07-01 00:00:00\",\"2021-08-01 00:00:00\",\"2021-09-01 00:00:00\",\"2021-10-01 00:00:00\",\"2021-11-01 00:00:00\",\"2021-12-01 00:00:00\",\"2022-01-01 00:00:00\",\"2022-02-01 00:00:00\",\"2022-03-01 00:00:00\",\"2022-04-01 00:00:00\",\"2022-05-01 00:00:00\",\"2022-06-01 00:00:00\"]},\"selected\":{\"id\":\"6990\"},\"selection_policy\":{\"id\":\"7022\"}},\"id\":\"6989\",\"type\":\"ColumnDataSource\"},{\"attributes\":{\"axis_label\":\"Average Rent ($)\",\"coordinates\":null,\"formatter\":{\"id\":\"6956\"},\"group\":null,\"major_label_policy\":{\"id\":\"6957\"},\"ticker\":{\"id\":\"6927\"}},\"id\":\"6926\",\"type\":\"LinearAxis\"},{\"attributes\":{\"fill_color\":{\"value\":\"Orange\"},\"hatch_color\":{\"value\":\"Orange\"},\"top\":{\"field\":\"Average_Monthly_Rent\"},\"width\":{\"value\":0.8},\"x\":{\"field\":\"Month\"}},\"id\":\"6946\",\"type\":\"VBar\"},{\"attributes\":{},\"id\":\"7003\",\"type\":\"AllLabels\"},{\"attributes\":{\"margin\":[5,5,5,5],\"name\":\"HSpacer06888\",\"sizing_mode\":\"stretch_width\"},\"id\":\"7050\",\"type\":\"Spacer\"},{\"attributes\":{\"axis_label\":\"Average Rent ($)\",\"coordinates\":null,\"formatter\":{\"id\":\"7002\"},\"group\":null,\"major_label_policy\":{\"id\":\"7003\"},\"ticker\":{\"id\":\"6973\"}},\"id\":\"6972\",\"type\":\"LinearAxis\"},{\"attributes\":{\"axis\":{\"id\":\"6926\"},\"coordinates\":null,\"dimension\":1,\"grid_line_color\":null,\"group\":null,\"ticker\":null},\"id\":\"6929\",\"type\":\"Grid\"},{\"attributes\":{\"axis\":{\"id\":\"6972\"},\"coordinates\":null,\"dimension\":1,\"grid_line_color\":null,\"group\":null,\"ticker\":null},\"id\":\"6975\",\"type\":\"Grid\"},{\"attributes\":{\"toolbar\":{\"id\":\"7027\"},\"toolbar_location\":\"above\"},\"id\":\"7028\",\"type\":\"ToolbarBox\"},{\"attributes\":{\"tools\":[{\"id\":\"6959\"},{\"id\":\"6976\"},{\"id\":\"6977\"},{\"id\":\"6978\"},{\"id\":\"6979\"},{\"id\":\"6980\"}]},\"id\":\"6982\",\"type\":\"Toolbar\"},{\"attributes\":{},\"id\":\"6954\",\"type\":\"AllLabels\"},{\"attributes\":{},\"id\":\"6999\",\"type\":\"CategoricalTickFormatter\"},{\"attributes\":{\"source\":{\"id\":\"6943\"}},\"id\":\"6950\",\"type\":\"CDSView\"},{\"attributes\":{\"callback\":null,\"renderers\":[{\"id\":\"6995\"}],\"tags\":[\"hv_created\"],\"tooltips\":[[\"Month\",\"@{Month}\"],[\"Average Monthly Rent\",\"@{Average_Monthly_Rent}\"]]},\"id\":\"6959\",\"type\":\"HoverTool\"},{\"attributes\":{\"axis_label\":\"Month/Year\",\"coordinates\":null,\"formatter\":{\"id\":\"6999\"},\"group\":null,\"major_label_orientation\":1.5707963267948966,\"major_label_policy\":{\"id\":\"7000\"},\"ticker\":{\"id\":\"6970\"}},\"id\":\"6969\",\"type\":\"CategoricalAxis\"},{\"attributes\":{\"margin\":[5,5,5,5],\"name\":\"HSpacer06887\",\"sizing_mode\":\"stretch_width\"},\"id\":\"6910\",\"type\":\"Spacer\"},{\"attributes\":{},\"id\":\"6973\",\"type\":\"BasicTicker\"},{\"attributes\":{\"fill_alpha\":{\"value\":0.1},\"fill_color\":{\"value\":\"Blue\"},\"hatch_alpha\":{\"value\":0.1},\"hatch_color\":{\"value\":\"Blue\"},\"line_alpha\":{\"value\":0.1},\"top\":{\"field\":\"Average_Monthly_Rent\"},\"width\":{\"value\":0.8},\"x\":{\"field\":\"Month\"}},\"id\":\"6993\",\"type\":\"VBar\"},{\"attributes\":{\"children\":[[{\"id\":\"6914\"},0,0],[{\"id\":\"6960\"},0,1]]},\"id\":\"7026\",\"type\":\"GridBox\"},{\"attributes\":{\"axis\":{\"id\":\"6923\"},\"coordinates\":null,\"grid_line_color\":null,\"group\":null,\"ticker\":null},\"id\":\"6925\",\"type\":\"Grid\"},{\"attributes\":{\"coordinates\":null,\"group\":null,\"text\":\"Past Average Rent- Washington, DC\",\"text_color\":\"black\",\"text_font_size\":\"12pt\"},\"id\":\"6961\",\"type\":\"Title\"},{\"attributes\":{\"fill_color\":{\"value\":\"Blue\"},\"hatch_color\":{\"value\":\"Blue\"},\"top\":{\"field\":\"Average_Monthly_Rent\"},\"width\":{\"value\":0.8},\"x\":{\"field\":\"Month\"}},\"id\":\"6992\",\"type\":\"VBar\"},{\"attributes\":{\"source\":{\"id\":\"6989\"}},\"id\":\"6996\",\"type\":\"CDSView\"},{\"attributes\":{},\"id\":\"6978\",\"type\":\"WheelZoomTool\"}],\"root_ids\":[\"6909\"]},\"title\":\"Bokeh Application\",\"version\":\"2.4.3\"}};\n",
       "    var render_items = [{\"docid\":\"822ad082-9792-4b59-a061-17745fd12bca\",\"root_ids\":[\"6909\"],\"roots\":{\"6909\":\"93a91086-6a9b-477a-a2b2-55cd8a492caa\"}}];\n",
       "    root.Bokeh.embed.embed_items_notebook(docs_json, render_items);\n",
       "  }\n",
       "  if (root.Bokeh !== undefined && root.Bokeh.Panel !== undefined) {\n",
       "    embed_document(root);\n",
       "  } else {\n",
       "    var attempts = 0;\n",
       "    var timer = setInterval(function(root) {\n",
       "      if (root.Bokeh !== undefined && root.Bokeh.Panel !== undefined) {\n",
       "        clearInterval(timer);\n",
       "        embed_document(root);\n",
       "      } else if (document.readyState == \"complete\") {\n",
       "        attempts++;\n",
       "        if (attempts > 200) {\n",
       "          clearInterval(timer);\n",
       "          console.log(\"Bokeh: ERROR: Unable to run BokehJS code because BokehJS library is missing\");\n",
       "        }\n",
       "      }\n",
       "    }, 25, root)\n",
       "  }\n",
       "})(window);</script>"
      ],
      "text/plain": [
       ":Layout\n",
       "   .Bars.I  :Bars   [Month]   (Average Monthly Rent)\n",
       "   .Bars.II :Bars   [Month]   (Average Monthly Rent)"
      ]
     },
     "execution_count": 217,
     "metadata": {
      "application/vnd.holoviews_exec.v0+json": {
       "id": "6909"
      }
     },
     "output_type": "execute_result"
    }
   ],
   "source": [
    "overlay_plot= region_0 + region_1\n",
    "overlay_plot"
   ]
  },
  {
   "cell_type": "code",
   "execution_count": null,
   "id": "9a5bb196-1883-4501-903a-af2545097d4d",
   "metadata": {},
   "outputs": [],
   "source": []
  }
 ],
 "metadata": {
  "kernelspec": {
   "display_name": "dev",
   "language": "python",
   "name": "dev"
  },
  "language_info": {
   "codemirror_mode": {
    "name": "ipython",
    "version": 3
   },
   "file_extension": ".py",
   "mimetype": "text/x-python",
   "name": "python",
   "nbconvert_exporter": "python",
   "pygments_lexer": "ipython3",
   "version": "3.9.12"
  }
 },
 "nbformat": 4,
 "nbformat_minor": 5
}

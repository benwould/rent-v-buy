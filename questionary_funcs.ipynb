{
 "cells": [
  {
   "cell_type": "code",
   "execution_count": 1,
   "id": "accc2125-a055-4dc9-9e55-f450b82eb0cf",
   "metadata": {},
   "outputs": [
    {
     "ename": "ModuleNotFoundError",
     "evalue": "No module named 'questionary'",
     "output_type": "error",
     "traceback": [
      "\u001b[1;31m---------------------------------------------------------------------------\u001b[0m",
      "\u001b[1;31mModuleNotFoundError\u001b[0m                       Traceback (most recent call last)",
      "\u001b[1;32m~\\AppData\\Local\\Temp\\ipykernel_17128\\4202137256.py\u001b[0m in \u001b[0;36m<module>\u001b[1;34m\u001b[0m\n\u001b[1;32m----> 1\u001b[1;33m \u001b[1;32mimport\u001b[0m \u001b[0mquestionary\u001b[0m\u001b[1;33m\u001b[0m\u001b[1;33m\u001b[0m\u001b[0m\n\u001b[0m",
      "\u001b[1;31mModuleNotFoundError\u001b[0m: No module named 'questionary'"
     ]
    }
   ],
   "source": [
    "import questionary"
   ]
  },
  {
   "cell_type": "code",
   "execution_count": 2,
   "id": "119b371b-626d-47a0-af9a-3e4b3ea19da4",
   "metadata": {},
   "outputs": [],
   "source": [
    "def get_applicant_info_buy():\n",
    "    city = questionary.text(\"What city do you want information on?\").ask()\n",
    "    city = int(credit_score)\n",
    "    move_in_month = questionary.text(\"What month will you likely start living there?\").ask()\n",
    "    move_in_month = float(loan_amount)\n",
    "    monthly_budget = questionary.text(\"Whats your budget for monthly mortgage payments?\").ask()\n",
    "    monthly_budget = float(home_value)\n",
    "    down_payment = questionary.text(\"Would you put 5% or 20% down for a mortgage?\").ask()\n",
    "    down_payment = float(home_value)"
   ]
  },
  {
   "cell_type": "code",
   "execution_count": null,
   "id": "cc6bd325-f031-4a19-b6fa-25c6f8d994d5",
   "metadata": {},
   "outputs": [],
   "source": []
  }
 ],
 "metadata": {
  "kernelspec": {
   "display_name": "Python (dev)",
   "language": "python",
   "name": "dev"
  },
  "language_info": {
   "codemirror_mode": {
    "name": "ipython",
    "version": 3
   },
   "file_extension": ".py",
   "mimetype": "text/x-python",
   "name": "python",
   "nbconvert_exporter": "python",
   "pygments_lexer": "ipython3",
   "version": "3.7.13"
  }
 },
 "nbformat": 4,
 "nbformat_minor": 5
}

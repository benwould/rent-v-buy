{
 "cells": [
  {
   "cell_type": "code",
   "execution_count": 1,
   "id": "56cdde5d-2ef7-4e50-b337-1dea2f24e193",
   "metadata": {},
   "outputs": [],
   "source": [
    "# Import module\n",
    "from tkinter import *\n",
    "import tkinter as tk\n",
    "import app\n",
    "\n",
    "# Create object\n",
    "root = tk.Tk()\n",
    "root.title(\"Welcome to Rent v Buying App\")\n",
    "root.geometry( \"400x600\" )\n",
    "\n",
    "# Declare variables for Tkinter\n",
    "my_rent_or_own = StringVar(root, name=\"Rent or Own\",value='Rent')\n",
    "my_city = StringVar(root, name=\"My City\",value='')\n",
    "my_monthly_payment = IntVar(root, name=\"My Monthly Payment\", value=100000)\n",
    "my_income = IntVar(root, name=\"My Monthly Income($)\", value=10000)\n",
    "my_home_value = StringVar(root, name=\"My Home Value($)\", value=660000)\n",
    "my_equity = StringVar(root, name=\"My Equity($)\", value=330000)\n",
    "my_interest_rate = DoubleVar(root, name=\"My Interest Rate %\", value=0.035)\n",
    "my_tax_rate = DoubleVar(root, name=\"My Tax Rate %\", value=0.01)\n",
    "\n",
    "# # Declare global python variables\n",
    "# global gmy_rent_or_own\n",
    "# global gmy_city\n",
    "# global gmy_monthly_payment\n",
    "global gmy_income\n",
    "# global gmy_home_value\n",
    "# global gmy_equity\n",
    "# global gmy_interest_rate\n",
    "# global gmy_tax_rate\n",
    "\n",
    "###### Cities\n",
    "label = Label( root , text = \"What city do you live in?\" )\n",
    "label.grid(row=0,column=0)\n",
    "cities = app.get_city_list()\n",
    "# Create Dropdown menu\n",
    "drop_cities = OptionMenu( root , my_city , *cities )\n",
    "drop_cities.grid(row=0,column=1)\n",
    "###### Rent or own\n",
    "label_ro = Label( root , text = \"Do you rent or own?\" )\n",
    "label_ro.grid(row=1,column=0)\n",
    "ro = [\"Rent\",\"Own\"]\n",
    "drop_ro = OptionMenu( root , my_rent_or_own , *ro )\n",
    "drop_ro.grid(row=1,column=1)\n",
    "\n",
    "###### Monthly Payment\n",
    "label_mp = Label( root , text = \"What is your monthly payment?\" )\n",
    "label_mp.grid(row=2,column=0)\n",
    "entry_mp = Entry(root,width=10,borderwidth=5)\n",
    "entry_mp.grid(row=2,column=1)\n",
    "\n",
    "###### Monthly Income\n",
    "label_inc = Label( root , text = \"What is your monthly income?\" )\n",
    "label_inc.grid(row=3,column=0)\n",
    "entry_inc = Entry(root,width=10,borderwidth=5)\n",
    "entry_inc.grid(row=3,column=1)\n",
    "\n",
    "###### Home Value\n",
    "label_hv = Label( root , text = \"What is your home value?\" )\n",
    "label_hv.grid(row=4,column=0)\n",
    "entry_hv = Entry(root,width=10,borderwidth=5)\n",
    "entry_hv.grid(row=4,column=1)\n",
    "\n",
    "###### Equity\n",
    "label_eq = Label( root , text = \"What is your equity?\" )\n",
    "label_eq.grid(row=5,column=0)\n",
    "entry_eq = Entry(root,width=10,borderwidth=5)\n",
    "entry_eq.grid(row=5,column=1)\n",
    "\n",
    "###### Interest Rate\n",
    "label_ir = Label( root , text = \"What is your interest rate?\" )\n",
    "label_ir.grid(row=6,column=0)\n",
    "entry_ir = Entry(root,width=10,borderwidth=5)\n",
    "entry_ir.grid(row=6,column=1)\n",
    "\n",
    "###### Tax Rate\n",
    "label_tr = Label( root , text = \"What is your annual tax rate?\" )\n",
    "label_tr.grid(row=7,column=0)\n",
    "entry_tr = Entry(root,width=10,borderwidth=5)\n",
    "entry_tr.grid(row=7,column=1)\n",
    "\n",
    "def print_data():\n",
    "    city=my_city.get()\n",
    "    ownership=my_rent_or_own.get()\n",
    "    my_monthly_payment = entry_mp.get()\n",
    "    my_income = entry_inc.get()\n",
    "    gmy_income = entry_inc.get()\n",
    "    my_home_value = entry_hv.get()\n",
    "    my_equity = entry_eq.get()\n",
    "    my_interest_rate = entry_ir.get()\n",
    "    my_tax_rate = entry_tr.get()\n",
    "    label_data = Label(root,text=f\"\"\"My Data:\n",
    "                             city:  {city}\n",
    "                             ownership:  {ownership}\n",
    "                             monthly payment: {my_monthly_payment}\n",
    "                             monthly income: {my_income}\n",
    "                             home value: {my_home_value}\n",
    "                             equity: {my_equity}\n",
    "                             interest rate: {my_interest_rate}\n",
    "                             tax rate: {my_tax_rate}\n",
    "                            \"\"\")\n",
    "    label_data.grid(row=10,column=0,padx=0)\n",
    "\n",
    "def finished():\n",
    "    root.destroy()\n",
    "# Create button, it will change label text\n",
    "button = Button( root\n",
    "                 , text = \"View My Data\"\n",
    "                 , command =print_data)\n",
    "button.grid(row=8,column=0,pady=10)\n",
    "button = Button( root\n",
    "                 , text = \"I'm done with data entry\"\n",
    "                 , command = finished)\n",
    "button.grid(row=8,column=1,pady=10)\n",
    "\n",
    "gmy_monthly_payment = entry_mp.get()\n",
    "my_income = entry_inc.get()\n",
    "my_home_value = entry_hv.get()\n",
    "my_equity = entry_eq.get()\n",
    "my_interest_rate = entry_ir.get()\n",
    "my_tax_rate = entry_tr.get()\n",
    "# Execute tkinter\n",
    "root.mainloop()"
   ]
  },
  {
   "cell_type": "code",
   "execution_count": 63,
   "outputs": [
    {
     "data": {
      "text/plain": "'Cincinnati, OH'"
     },
     "execution_count": 63,
     "metadata": {},
     "output_type": "execute_result"
    }
   ],
   "source": [
    "gmy_city\n",
    "# gmy_rent_or_own=my_rent_or_own.get()\n",
    "# gmy_monthly_payment = my_monthly_payment.get()\n",
    "#gmy_income\n",
    "# gmy_home_value = entry_hv.get()\n",
    "# gmy_equity = entry_eq.get()\n",
    "# gmy_interest_rate = entry_ir.get()\n",
    "# gmy_tax_rate = entry_tr.get()"
   ],
   "metadata": {
    "collapsed": false
   }
  },
  {
   "cell_type": "code",
   "execution_count": 5,
   "outputs": [
    {
     "name": "stderr",
     "output_type": "stream",
     "text": [
      "C:\\Users\\benwo\\Documents\\repos\\rent-v-buy\\app.py:40: FutureWarning: The behavior of indexing on a MultiIndex with a nested sequence of labels is deprecated and will change in a future version. `series.loc[label, sequence]` will raise if any members of 'sequence' or not present in the index's second level. To retain the old behavior, use `series.index.isin(sequence, level=1)`\n",
      "  main_df = main_df.loc[slice(None), ['Austin, TX', 'San Diego, CA', 'Atlanta, GA', 'Washington, DC', 'West Palm Beach, FL', 'Indianapolis, IN', 'Pittsburg, PA', 'Detroit, MI', 'Denver, CO', 'Boston, MA'], : ]\n"
     ]
    },
    {
     "data": {
      "text/plain": "['Austin, TX',\n 'San Diego, CA',\n 'Atlanta, GA',\n 'Washington, DC',\n 'West Palm Beach, FL',\n 'Indianapolis, IN',\n 'Detroit, MI',\n 'Denver, CO',\n 'Boston, MA']"
     },
     "execution_count": 5,
     "metadata": {},
     "output_type": "execute_result"
    }
   ],
   "source": [
    "\n",
    "df = app.get_city_list()\n",
    "df"
   ],
   "metadata": {
    "collapsed": false
   }
  },
  {
   "cell_type": "code",
   "execution_count": null,
   "outputs": [],
   "source": [],
   "metadata": {
    "collapsed": false
   }
  }
 ],
 "metadata": {
  "kernelspec": {
   "display_name": "Python 3 (ipykernel)",
   "language": "python",
   "name": "python3"
  },
  "language_info": {
   "codemirror_mode": {
    "name": "ipython",
    "version": 3
   },
   "file_extension": ".py",
   "mimetype": "text/x-python",
   "name": "python",
   "nbconvert_exporter": "python",
   "pygments_lexer": "ipython3",
   "version": "3.9.13"
  }
 },
 "nbformat": 4,
 "nbformat_minor": 5
}

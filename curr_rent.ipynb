{
 "cells": [
  {
   "cell_type": "code",
   "execution_count": 19,
   "id": "709236dd-2094-426e-b7ed-8caee7d7a89b",
   "metadata": {},
   "outputs": [],
   "source": [
    "#copied and pasted from app.py\n",
    "import tkinter\n",
    "import pandas as pd\n",
    "import numpy as np\n",
    "from pathlib import Path\n",
    "import matplotlib\n",
    "import app"
   ]
  },
  {
   "cell_type": "code",
   "execution_count": 20,
   "id": "d63ca193-2d85-4659-8736-fb5ff9e976e4",
   "metadata": {},
   "outputs": [
    {
     "data": {
      "text/html": [
       "<div>\n",
       "<style scoped>\n",
       "    .dataframe tbody tr th:only-of-type {\n",
       "        vertical-align: middle;\n",
       "    }\n",
       "\n",
       "    .dataframe tbody tr th {\n",
       "        vertical-align: top;\n",
       "    }\n",
       "\n",
       "    .dataframe thead th {\n",
       "        text-align: right;\n",
       "    }\n",
       "</style>\n",
       "<table border=\"1\" class=\"dataframe\">\n",
       "  <thead>\n",
       "    <tr style=\"text-align: right;\">\n",
       "      <th></th>\n",
       "      <th></th>\n",
       "      <th>Average Monthly Rent</th>\n",
       "      <th>Average Rent YoY</th>\n",
       "      <th>Monthly mortgage, 5% down</th>\n",
       "      <th>Monthly mortgage, 5% down YoY</th>\n",
       "      <th>Monthly mortgage, 20% down</th>\n",
       "      <th>Monthly mortgage, 20% down YoY</th>\n",
       "      <th>Median sale price</th>\n",
       "      <th>Median sale price YoY</th>\n",
       "    </tr>\n",
       "    <tr>\n",
       "      <th>Month</th>\n",
       "      <th>Region</th>\n",
       "      <th></th>\n",
       "      <th></th>\n",
       "      <th></th>\n",
       "      <th></th>\n",
       "      <th></th>\n",
       "      <th></th>\n",
       "      <th></th>\n",
       "      <th></th>\n",
       "    </tr>\n",
       "  </thead>\n",
       "  <tbody>\n",
       "    <tr>\n",
       "      <th rowspan=\"5\" valign=\"top\">2021-02-01</th>\n",
       "      <th>Austin, TX</th>\n",
       "      <td>1644</td>\n",
       "      <td>NaN</td>\n",
       "      <td>1552</td>\n",
       "      <td>NaN</td>\n",
       "      <td>1307</td>\n",
       "      <td>NaN</td>\n",
       "      <td>397184</td>\n",
       "      <td>22.2</td>\n",
       "    </tr>\n",
       "    <tr>\n",
       "      <th>Austin, TX</th>\n",
       "      <td>1644</td>\n",
       "      <td>NaN</td>\n",
       "      <td>1414</td>\n",
       "      <td>NaN</td>\n",
       "      <td>1191</td>\n",
       "      <td>NaN</td>\n",
       "      <td>361750</td>\n",
       "      <td>18.6</td>\n",
       "    </tr>\n",
       "    <tr>\n",
       "      <th>Austin, TX</th>\n",
       "      <td>1644</td>\n",
       "      <td>NaN</td>\n",
       "      <td>1810</td>\n",
       "      <td>NaN</td>\n",
       "      <td>1524</td>\n",
       "      <td>NaN</td>\n",
       "      <td>463000</td>\n",
       "      <td>12.9</td>\n",
       "    </tr>\n",
       "    <tr>\n",
       "      <th>Austin, TX</th>\n",
       "      <td>1644</td>\n",
       "      <td>NaN</td>\n",
       "      <td>1563</td>\n",
       "      <td>NaN</td>\n",
       "      <td>1317</td>\n",
       "      <td>NaN</td>\n",
       "      <td>400000</td>\n",
       "      <td>22.0</td>\n",
       "    </tr>\n",
       "    <tr>\n",
       "      <th>Austin, TX</th>\n",
       "      <td>1644</td>\n",
       "      <td>NaN</td>\n",
       "      <td>1126</td>\n",
       "      <td>NaN</td>\n",
       "      <td>948</td>\n",
       "      <td>NaN</td>\n",
       "      <td>288050</td>\n",
       "      <td>15.2</td>\n",
       "    </tr>\n",
       "  </tbody>\n",
       "</table>\n",
       "</div>"
      ],
      "text/plain": [
       "                       Average Monthly Rent  Average Rent YoY  \\\n",
       "Month      Region                                               \n",
       "2021-02-01 Austin, TX                  1644               NaN   \n",
       "           Austin, TX                  1644               NaN   \n",
       "           Austin, TX                  1644               NaN   \n",
       "           Austin, TX                  1644               NaN   \n",
       "           Austin, TX                  1644               NaN   \n",
       "\n",
       "                       Monthly mortgage, 5% down  \\\n",
       "Month      Region                                  \n",
       "2021-02-01 Austin, TX                       1552   \n",
       "           Austin, TX                       1414   \n",
       "           Austin, TX                       1810   \n",
       "           Austin, TX                       1563   \n",
       "           Austin, TX                       1126   \n",
       "\n",
       "                       Monthly mortgage, 5% down YoY  \\\n",
       "Month      Region                                      \n",
       "2021-02-01 Austin, TX                            NaN   \n",
       "           Austin, TX                            NaN   \n",
       "           Austin, TX                            NaN   \n",
       "           Austin, TX                            NaN   \n",
       "           Austin, TX                            NaN   \n",
       "\n",
       "                       Monthly mortgage, 20% down  \\\n",
       "Month      Region                                   \n",
       "2021-02-01 Austin, TX                        1307   \n",
       "           Austin, TX                        1191   \n",
       "           Austin, TX                        1524   \n",
       "           Austin, TX                        1317   \n",
       "           Austin, TX                         948   \n",
       "\n",
       "                       Monthly mortgage, 20% down YoY  Median sale price  \\\n",
       "Month      Region                                                          \n",
       "2021-02-01 Austin, TX                             NaN             397184   \n",
       "           Austin, TX                             NaN             361750   \n",
       "           Austin, TX                             NaN             463000   \n",
       "           Austin, TX                             NaN             400000   \n",
       "           Austin, TX                             NaN             288050   \n",
       "\n",
       "                       Median sale price YoY  \n",
       "Month      Region                             \n",
       "2021-02-01 Austin, TX                   22.2  \n",
       "           Austin, TX                   18.6  \n",
       "           Austin, TX                   12.9  \n",
       "           Austin, TX                   22.0  \n",
       "           Austin, TX                   15.2  "
      ]
     },
     "execution_count": 20,
     "metadata": {},
     "output_type": "execute_result"
    }
   ],
   "source": [
    "#pulling in the main_df\n",
    "main_df=app.get_main_df()\n",
    "main_df.head(5)"
   ]
  },
  {
   "cell_type": "code",
   "execution_count": 46,
   "id": "be37e33a-3d9e-44b6-83a4-d3982dd9127f",
   "metadata": {},
   "outputs": [],
   "source": [
    "#This would come from the GUI..\n",
    "user_input='Boston, MA'"
   ]
  },
  {
   "cell_type": "code",
   "execution_count": 47,
   "id": "762f0b1d-b447-475d-884e-5f127725b9d1",
   "metadata": {},
   "outputs": [
    {
     "data": {
      "text/plain": [
       "0.23906800734437433"
      ]
     },
     "execution_count": 47,
     "metadata": {},
     "output_type": "execute_result"
    }
   ],
   "source": [
    "#year over year rent is given as a percentage here. \n",
    "#Line 1 is the function name//line 2 drop columns, DROPS duplicates (left over as a reminant of the \"prop type\" column, and RESETS the index to remove 'Region'//\n",
    "#line 3 find the users selected region//line 4 calculates the month to month percentage, AVERAGES that change then annualizes the monthly change by multiplying the mean *12\n",
    "\n",
    "def yoy_rent(user_input):\n",
    "    rent=main_df.drop(columns=['Monthly mortgage, 5% down', 'Monthly mortgage, 20% down', 'Monthly mortgage, 5% down YoY', 'Monthly mortgage, 20% down YoY', 'Median sale price YoY','Average Rent YoY','Median sale price']).drop_duplicates().reset_index('Region')\n",
    "    rent=rent.loc[rent['Region']== user_input]\n",
    "    rent_change=rent['Average Monthly Rent'].pct_change().dropna().mean()*12\n",
    "    \n",
    "    return rent_change\n",
    "\n",
    "projection=yoy_rent(user_input)\n",
    "projection"
   ]
  },
  {
   "cell_type": "code",
   "execution_count": 48,
   "id": "347bc9ba-16eb-47a8-8f5a-a0f49300c1b7",
   "metadata": {},
   "outputs": [
    {
     "name": "stdout",
     "output_type": "stream",
     "text": [
      "4031\n"
     ]
    }
   ],
   "source": [
    "#This function tells the user what to expect to pay in rent in the chosen city. This function finds the most recent average monthly ren in that city (most recent data\n",
    "#on redfin_table.csv is 2022-06-01).\n",
    "\n",
    "def current(user_input):\n",
    "    current_rent=main_df.drop(columns=['Monthly mortgage, 5% down', 'Monthly mortgage, 20% down', 'Monthly mortgage, 5% down YoY', 'Monthly mortgage, 20% down YoY', 'Median sale price YoY','Average Rent YoY','Median sale price']).drop_duplicates().reset_index('Region')\n",
    "    current_rent=current_rent.loc[current_rent['Region']== user_input]\n",
    "    current_rent=current_rent.loc['2022-06-01']\n",
    "    current_rent=current_rent['Average Monthly Rent']\n",
    "      \n",
    "    return current_rent\n",
    "\n",
    "curr_rent=current(user_input)\n",
    "print(curr_rent)\n",
    "    \n"
   ]
  },
  {
   "cell_type": "code",
   "execution_count": 49,
   "id": "2812d821-43a9-4052-8350-d5db035906d2",
   "metadata": {},
   "outputs": [
    {
     "data": {
      "text/plain": [
       "4994.683137605173"
      ]
     },
     "execution_count": 49,
     "metadata": {},
     "output_type": "execute_result"
    }
   ],
   "source": [
    "#This tells the user what the city's rent could jump to based on the year over year change calculation above.\n",
    "future_rent=(curr_rent*projection)+curr_rent\n",
    "future_rent"
   ]
  },
  {
   "cell_type": "code",
   "execution_count": null,
   "id": "464d9135-b91a-473c-a074-714efd90ed3f",
   "metadata": {},
   "outputs": [],
   "source": []
  }
 ],
 "metadata": {
  "kernelspec": {
   "display_name": "dev",
   "language": "python",
   "name": "dev"
  },
  "language_info": {
   "codemirror_mode": {
    "name": "ipython",
    "version": 3
   },
   "file_extension": ".py",
   "mimetype": "text/x-python",
   "name": "python",
   "nbconvert_exporter": "python",
   "pygments_lexer": "ipython3",
   "version": "3.9.12"
  }
 },
 "nbformat": 4,
 "nbformat_minor": 5
}

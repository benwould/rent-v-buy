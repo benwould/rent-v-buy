{
 "cells": [
  {
   "cell_type": "code",
   "execution_count": 1,
   "id": "81605117-a64c-4a02-89b0-13dfbaa6ff70",
   "metadata": {},
   "outputs": [],
   "source": [
    "#COLUMNS NEEDED IN FINAL DATAFRAME?\n",
    "#USING REDFIN CSV!\n",
    "#MODULES- "
   ]
  },
  {
   "cell_type": "code",
   "execution_count": 10,
   "id": "2f3dbe93-d604-4040-9b3a-6b846fb94198",
   "metadata": {},
   "outputs": [],
   "source": [
    "import pandas as pd\n",
    "import numpy as np\n",
    "from pathlib import Path\n",
    "import matplotlib\n",
    "import app\n",
    "import warnings\n",
    "with warnings.catch_warnings():\n",
    "    warnings.simplefilter(action='ignore', category=FutureWarning)"
   ]
  },
  {
   "cell_type": "code",
   "execution_count": 11,
   "id": "61a4be6c-7b95-4cef-837a-da751073f49b",
   "metadata": {},
   "outputs": [
    {
     "ename": "AttributeError",
     "evalue": "module 'app' has no attribute 'get_main_df'",
     "output_type": "error",
     "traceback": [
      "\u001B[1;31m---------------------------------------------------------------------------\u001B[0m",
      "\u001B[1;31mAttributeError\u001B[0m                            Traceback (most recent call last)",
      "Cell \u001B[1;32mIn[11], line 2\u001B[0m\n\u001B[0;32m      1\u001B[0m \u001B[38;5;66;03m#reading the csv, setting the linebreak as 'tab', setting datetime format for the Month index, and setting three indexes (month, region, proptype)\u001B[39;00m\n\u001B[1;32m----> 2\u001B[0m main_df \u001B[38;5;241m=\u001B[39m \u001B[43mapp\u001B[49m\u001B[38;5;241;43m.\u001B[39;49m\u001B[43mget_main_df\u001B[49m()\n",
      "\u001B[1;31mAttributeError\u001B[0m: module 'app' has no attribute 'get_main_df'"
     ]
    }
   ],
   "source": [
    "#reading the csv, setting the linebreak as 'tab', setting datetime format for the Month index, and setting three indexes (month, region, proptype)\n",
    "main_df = app.get_main_df()"
   ]
  },
  {
   "cell_type": "code",
   "execution_count": 12,
   "id": "bfa9a0ee-605f-45c4-bdec-d85922619bee",
   "metadata": {},
   "outputs": [
    {
     "data": {
      "text/plain": "Average Monthly Rent                1604.0\nAverage Rent YoY                       NaN\nMonthly mortgage, 5% down           1190.0\nMonthly mortgage, 5% down YoY          NaN\nMonthly mortgage, 20% down          1002.0\nMonthly mortgage, 20% down YoY         NaN\nMedian sale price                 251031.0\nMedian sale price YoY                  4.1\nName: (2019-02-01 00:00:00, National, Townhouse), dtype: float64"
     },
     "execution_count": 12,
     "metadata": {},
     "output_type": "execute_result"
    }
   ],
   "source": [
    "main_df.loc['2019-02-01', 'National', 'Townhouse']\n",
    "#Since there are three indexes, you can use .loc to specifically find the datapoint as per Time/Region/Type\n",
    "#If you want to refer to the actual datapoint and not this list of data, see the next cell."
   ]
  },
  {
   "cell_type": "code",
   "execution_count": 13,
   "id": "170d2adc-5216-4c7c-938e-f1fa9dc174a9",
   "metadata": {},
   "outputs": [
    {
     "data": {
      "text/plain": "1190"
     },
     "execution_count": 13,
     "metadata": {},
     "output_type": "execute_result"
    }
   ],
   "source": [
    "#Add another slice syntax [] and put the datapoint's index position from the list seen above (0, 1, 2,... starting from the first value top right)\n",
    "#In this case, I added 3 which should show the 'Monthly Mortgage, 5% down YoY', so it should show '$1,190'\n",
    "\n",
    "example_data = main_df.loc['2019-02-01', 'National', 'Townhouse'][2]\n",
    "\n",
    "#to convert this string to an int, we need to add the int() function as well\n",
    "example_data = int(main_df.loc['2019-02-01', 'National', 'Townhouse'][2])\n",
    "\n",
    "#to convert this string to an int, we need to use the int() function\n",
    "example_data"
   ]
  },
  {
   "cell_type": "code",
   "execution_count": 14,
   "id": "fec993d2-0bce-43a6-84ef-5bbab8ce2ac6",
   "metadata": {},
   "outputs": [],
   "source": [
    "#ignore this, keeping for personal references\n",
    "#idx = pd.IndexSlice\n",
    "#slice_example_df = main_df.loc[idx[: , :], :]\n",
    "#slice_example_df"
   ]
  },
  {
   "cell_type": "code",
   "execution_count": 15,
   "id": "5d7ace87-aa42-4893-8418-030afbfc97da",
   "metadata": {},
   "outputs": [
    {
     "data": {
      "text/plain": "                                                  Average Monthly Rent  \\\nMonth      Region      For-Sale Property Type                            \n2021-02-01 Anaheim, CA All Residential                            3020   \n                       Condo/Co-op                                3020   \n                       Multi-Family (2-4 Unit)                    3020   \n                       Single Family Residential                  3020   \n                       Townhouse                                  3020   \n\n                                                  Average Rent YoY  \\\nMonth      Region      For-Sale Property Type                        \n2021-02-01 Anaheim, CA All Residential                         NaN   \n                       Condo/Co-op                             NaN   \n                       Multi-Family (2-4 Unit)                 NaN   \n                       Single Family Residential               NaN   \n                       Townhouse                               NaN   \n\n                                                  Monthly mortgage, 5% down  \\\nMonth      Region      For-Sale Property Type                                 \n2021-02-01 Anaheim, CA All Residential                                 3225   \n                       Condo/Co-op                                     2115   \n                       Multi-Family (2-4 Unit)                         5535   \n                       Single Family Residential                       3811   \n                       Townhouse                                       2576   \n\n                                                  Monthly mortgage, 5% down YoY  \\\nMonth      Region      For-Sale Property Type                                     \n2021-02-01 Anaheim, CA All Residential                                      NaN   \n                       Condo/Co-op                                          NaN   \n                       Multi-Family (2-4 Unit)                              NaN   \n                       Single Family Residential                            NaN   \n                       Townhouse                                            NaN   \n\n                                                  Monthly mortgage, 20% down  \\\nMonth      Region      For-Sale Property Type                                  \n2021-02-01 Anaheim, CA All Residential                                  2715   \n                       Condo/Co-op                                      1781   \n                       Multi-Family (2-4 Unit)                          4661   \n                       Single Family Residential                        3209   \n                       Townhouse                                        2169   \n\n                                                  Monthly mortgage, 20% down YoY  \\\nMonth      Region      For-Sale Property Type                                      \n2021-02-01 Anaheim, CA All Residential                                       NaN   \n                       Condo/Co-op                                           NaN   \n                       Multi-Family (2-4 Unit)                               NaN   \n                       Single Family Residential                             NaN   \n                       Townhouse                                             NaN   \n\n                                                  Median sale price  \\\nMonth      Region      For-Sale Property Type                         \n2021-02-01 Anaheim, CA All Residential                       825000   \n                       Condo/Co-op                           541000   \n                       Multi-Family (2-4 Unit)              1416000   \n                       Single Family Residential             975000   \n                       Townhouse                             659000   \n\n                                                  Median sale price YoY  \nMonth      Region      For-Sale Property Type                            \n2021-02-01 Anaheim, CA All Residential                             10.0  \n                       Condo/Co-op                                  7.9  \n                       Multi-Family (2-4 Unit)                     34.0  \n                       Single Family Residential                   12.1  \n                       Townhouse                                   15.0  ",
      "text/html": "<div>\n<style scoped>\n    .dataframe tbody tr th:only-of-type {\n        vertical-align: middle;\n    }\n\n    .dataframe tbody tr th {\n        vertical-align: top;\n    }\n\n    .dataframe thead th {\n        text-align: right;\n    }\n</style>\n<table border=\"1\" class=\"dataframe\">\n  <thead>\n    <tr style=\"text-align: right;\">\n      <th></th>\n      <th></th>\n      <th></th>\n      <th>Average Monthly Rent</th>\n      <th>Average Rent YoY</th>\n      <th>Monthly mortgage, 5% down</th>\n      <th>Monthly mortgage, 5% down YoY</th>\n      <th>Monthly mortgage, 20% down</th>\n      <th>Monthly mortgage, 20% down YoY</th>\n      <th>Median sale price</th>\n      <th>Median sale price YoY</th>\n    </tr>\n    <tr>\n      <th>Month</th>\n      <th>Region</th>\n      <th>For-Sale Property Type</th>\n      <th></th>\n      <th></th>\n      <th></th>\n      <th></th>\n      <th></th>\n      <th></th>\n      <th></th>\n      <th></th>\n    </tr>\n  </thead>\n  <tbody>\n    <tr>\n      <th rowspan=\"5\" valign=\"top\">2021-02-01</th>\n      <th rowspan=\"5\" valign=\"top\">Anaheim, CA</th>\n      <th>All Residential</th>\n      <td>3020</td>\n      <td>NaN</td>\n      <td>3225</td>\n      <td>NaN</td>\n      <td>2715</td>\n      <td>NaN</td>\n      <td>825000</td>\n      <td>10.0</td>\n    </tr>\n    <tr>\n      <th>Condo/Co-op</th>\n      <td>3020</td>\n      <td>NaN</td>\n      <td>2115</td>\n      <td>NaN</td>\n      <td>1781</td>\n      <td>NaN</td>\n      <td>541000</td>\n      <td>7.9</td>\n    </tr>\n    <tr>\n      <th>Multi-Family (2-4 Unit)</th>\n      <td>3020</td>\n      <td>NaN</td>\n      <td>5535</td>\n      <td>NaN</td>\n      <td>4661</td>\n      <td>NaN</td>\n      <td>1416000</td>\n      <td>34.0</td>\n    </tr>\n    <tr>\n      <th>Single Family Residential</th>\n      <td>3020</td>\n      <td>NaN</td>\n      <td>3811</td>\n      <td>NaN</td>\n      <td>3209</td>\n      <td>NaN</td>\n      <td>975000</td>\n      <td>12.1</td>\n    </tr>\n    <tr>\n      <th>Townhouse</th>\n      <td>3020</td>\n      <td>NaN</td>\n      <td>2576</td>\n      <td>NaN</td>\n      <td>2169</td>\n      <td>NaN</td>\n      <td>659000</td>\n      <td>15.0</td>\n    </tr>\n  </tbody>\n</table>\n</div>"
     },
     "execution_count": 15,
     "metadata": {},
     "output_type": "execute_result"
    }
   ],
   "source": [
    "main_df.head()"
   ]
  },
  {
   "cell_type": "code",
   "execution_count": 16,
   "id": "1e71864f-bd38-494a-914e-c5f10a79062d",
   "metadata": {},
   "outputs": [
    {
     "data": {
      "text/plain": "Average Monthly Rent                int32\nAverage Rent YoY                  float64\nMonthly mortgage, 5% down           int32\nMonthly mortgage, 5% down YoY     float64\nMonthly mortgage, 20% down          int32\nMonthly mortgage, 20% down YoY    float64\nMedian sale price                   int32\nMedian sale price YoY             float64\ndtype: object"
     },
     "execution_count": 16,
     "metadata": {},
     "output_type": "execute_result"
    }
   ],
   "source": [
    "main_df.dtypes"
   ]
  },
  {
   "cell_type": "code",
   "execution_count": 8,
   "outputs": [],
   "source": [],
   "metadata": {
    "collapsed": false
   }
  }
 ],
 "metadata": {
  "kernelspec": {
   "display_name": "Python 3 (ipykernel)",
   "language": "python",
   "name": "python3"
  },
  "language_info": {
   "codemirror_mode": {
    "name": "ipython",
    "version": 3
   },
   "file_extension": ".py",
   "mimetype": "text/x-python",
   "name": "python",
   "nbconvert_exporter": "python",
   "pygments_lexer": "ipython3",
   "version": "3.9.13"
  }
 },
 "nbformat": 4,
 "nbformat_minor": 5
}

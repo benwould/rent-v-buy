{
 "cells": [
  {
   "cell_type": "code",
   "execution_count": 1,
   "id": "81605117-a64c-4a02-89b0-13dfbaa6ff70",
   "metadata": {},
   "outputs": [],
   "source": [
    "#COLUMNS NEEDED IN FINAL DATAFRAME?\n",
    "#USING REDFIN CSV!\n",
    "#MODULES- "
   ]
  },
  {
   "cell_type": "code",
   "execution_count": 2,
   "id": "2f3dbe93-d604-4040-9b3a-6b846fb94198",
   "metadata": {},
   "outputs": [],
   "source": [
    "import pandas as pd\n",
    "import numpy as np\n",
    "from pathlib import Path\n",
    "import matplotlib\n",
    "import app\n",
    "import warnings\n",
    "with warnings.catch_warnings():\n",
    "    warnings.simplefilter(action='ignore', category=FutureWarning)"
   ]
  },
  {
   "cell_type": "code",
   "execution_count": 3,
   "id": "61a4be6c-7b95-4cef-837a-da751073f49b",
   "metadata": {},
   "outputs": [
    {
     "data": {
      "text/plain": "                                                          Average Monthly Rent  \\\nMonth      Region              For-Sale Property Type                            \n2021-02-01 Anaheim, CA         All Residential                            3020   \n                               Condo/Co-op                                3020   \n                               Multi-Family (2-4 Unit)                    3020   \n                               Single Family Residential                  3020   \n                               Townhouse                                  3020   \n...                                                                        ...   \n2022-06-01 West Palm Beach, FL All Residential                            3111   \n                               Condo/Co-op                                3111   \n                               Multi-Family (2-4 Unit)                    3111   \n                               Single Family Residential                  3111   \n                               Townhouse                                  3111   \n\n                                                          Average Rent YoY  \\\nMonth      Region              For-Sale Property Type                        \n2021-02-01 Anaheim, CA         All Residential                         NaN   \n                               Condo/Co-op                             NaN   \n                               Multi-Family (2-4 Unit)                 NaN   \n                               Single Family Residential               NaN   \n                               Townhouse                               NaN   \n...                                                                    ...   \n2022-06-01 West Palm Beach, FL All Residential                        22.9   \n                               Condo/Co-op                            22.9   \n                               Multi-Family (2-4 Unit)                22.9   \n                               Single Family Residential              22.9   \n                               Townhouse                              22.9   \n\n                                                          Monthly mortgage, 5% down  \\\nMonth      Region              For-Sale Property Type                                 \n2021-02-01 Anaheim, CA         All Residential                                 3225   \n                               Condo/Co-op                                     2115   \n                               Multi-Family (2-4 Unit)                         5535   \n                               Single Family Residential                       3811   \n                               Townhouse                                       2576   \n...                                                                             ...   \n2022-06-01 West Palm Beach, FL All Residential                                 2514   \n                               Condo/Co-op                                     1460   \n                               Multi-Family (2-4 Unit)                         2433   \n                               Single Family Residential                       3622   \n                               Townhouse                                       2000   \n\n                                                          Monthly mortgage, 5% down YoY  \\\nMonth      Region              For-Sale Property Type                                     \n2021-02-01 Anaheim, CA         All Residential                                      NaN   \n                               Condo/Co-op                                          NaN   \n                               Multi-Family (2-4 Unit)                              NaN   \n                               Single Family Residential                            NaN   \n                               Townhouse                                            NaN   \n...                                                                                 ...   \n2022-06-01 West Palm Beach, FL All Residential                                     67.8   \n                               Condo/Co-op                                         76.3   \n                               Multi-Family (2-4 Unit)                             68.9   \n                               Single Family Residential                           72.7   \n                               Townhouse                                           82.1   \n\n                                                          Monthly mortgage, 20% down  \\\nMonth      Region              For-Sale Property Type                                  \n2021-02-01 Anaheim, CA         All Residential                                  2715   \n                               Condo/Co-op                                      1781   \n                               Multi-Family (2-4 Unit)                          4661   \n                               Single Family Residential                        3209   \n                               Townhouse                                        2169   \n...                                                                              ...   \n2022-06-01 West Palm Beach, FL All Residential                                  2117   \n                               Condo/Co-op                                      1229   \n                               Multi-Family (2-4 Unit)                          2049   \n                               Single Family Residential                        3050   \n                               Townhouse                                        1684   \n\n                                                          Monthly mortgage, 20% down YoY  \\\nMonth      Region              For-Sale Property Type                                      \n2021-02-01 Anaheim, CA         All Residential                                       NaN   \n                               Condo/Co-op                                           NaN   \n                               Multi-Family (2-4 Unit)                               NaN   \n                               Single Family Residential                             NaN   \n                               Townhouse                                             NaN   \n...                                                                                  ...   \n2022-06-01 West Palm Beach, FL All Residential                                      67.8   \n                               Condo/Co-op                                          76.3   \n                               Multi-Family (2-4 Unit)                              68.9   \n                               Single Family Residential                            72.7   \n                               Townhouse                                            82.1   \n\n                                                          Median sale price  \\\nMonth      Region              For-Sale Property Type                         \n2021-02-01 Anaheim, CA         All Residential                       825000   \n                               Condo/Co-op                           541000   \n                               Multi-Family (2-4 Unit)              1416000   \n                               Single Family Residential             975000   \n                               Townhouse                             659000   \n...                                                                     ...   \n2022-06-01 West Palm Beach, FL All Residential                       465000   \n                               Condo/Co-op                           270000   \n                               Multi-Family (2-4 Unit)               450000   \n                               Single Family Residential             670000   \n                               Townhouse                             370000   \n\n                                                          Median sale price YoY  \nMonth      Region              For-Sale Property Type                            \n2021-02-01 Anaheim, CA         All Residential                             10.0  \n                               Condo/Co-op                                  7.9  \n                               Multi-Family (2-4 Unit)                     34.0  \n                               Single Family Residential                   12.1  \n                               Townhouse                                   15.0  \n...                                                                         ...  \n2022-06-01 West Palm Beach, FL All Residential                             24.0  \n                               Condo/Co-op                                 30.3  \n                               Multi-Family (2-4 Unit)                     24.8  \n                               Single Family Residential                   27.6  \n                               Townhouse                                   34.5  \n\n[4447 rows x 8 columns]",
      "text/html": "<div>\n<style scoped>\n    .dataframe tbody tr th:only-of-type {\n        vertical-align: middle;\n    }\n\n    .dataframe tbody tr th {\n        vertical-align: top;\n    }\n\n    .dataframe thead th {\n        text-align: right;\n    }\n</style>\n<table border=\"1\" class=\"dataframe\">\n  <thead>\n    <tr style=\"text-align: right;\">\n      <th></th>\n      <th></th>\n      <th></th>\n      <th>Average Monthly Rent</th>\n      <th>Average Rent YoY</th>\n      <th>Monthly mortgage, 5% down</th>\n      <th>Monthly mortgage, 5% down YoY</th>\n      <th>Monthly mortgage, 20% down</th>\n      <th>Monthly mortgage, 20% down YoY</th>\n      <th>Median sale price</th>\n      <th>Median sale price YoY</th>\n    </tr>\n    <tr>\n      <th>Month</th>\n      <th>Region</th>\n      <th>For-Sale Property Type</th>\n      <th></th>\n      <th></th>\n      <th></th>\n      <th></th>\n      <th></th>\n      <th></th>\n      <th></th>\n      <th></th>\n    </tr>\n  </thead>\n  <tbody>\n    <tr>\n      <th rowspan=\"5\" valign=\"top\">2021-02-01</th>\n      <th rowspan=\"5\" valign=\"top\">Anaheim, CA</th>\n      <th>All Residential</th>\n      <td>3020</td>\n      <td>NaN</td>\n      <td>3225</td>\n      <td>NaN</td>\n      <td>2715</td>\n      <td>NaN</td>\n      <td>825000</td>\n      <td>10.0</td>\n    </tr>\n    <tr>\n      <th>Condo/Co-op</th>\n      <td>3020</td>\n      <td>NaN</td>\n      <td>2115</td>\n      <td>NaN</td>\n      <td>1781</td>\n      <td>NaN</td>\n      <td>541000</td>\n      <td>7.9</td>\n    </tr>\n    <tr>\n      <th>Multi-Family (2-4 Unit)</th>\n      <td>3020</td>\n      <td>NaN</td>\n      <td>5535</td>\n      <td>NaN</td>\n      <td>4661</td>\n      <td>NaN</td>\n      <td>1416000</td>\n      <td>34.0</td>\n    </tr>\n    <tr>\n      <th>Single Family Residential</th>\n      <td>3020</td>\n      <td>NaN</td>\n      <td>3811</td>\n      <td>NaN</td>\n      <td>3209</td>\n      <td>NaN</td>\n      <td>975000</td>\n      <td>12.1</td>\n    </tr>\n    <tr>\n      <th>Townhouse</th>\n      <td>3020</td>\n      <td>NaN</td>\n      <td>2576</td>\n      <td>NaN</td>\n      <td>2169</td>\n      <td>NaN</td>\n      <td>659000</td>\n      <td>15.0</td>\n    </tr>\n    <tr>\n      <th>...</th>\n      <th>...</th>\n      <th>...</th>\n      <td>...</td>\n      <td>...</td>\n      <td>...</td>\n      <td>...</td>\n      <td>...</td>\n      <td>...</td>\n      <td>...</td>\n      <td>...</td>\n    </tr>\n    <tr>\n      <th rowspan=\"5\" valign=\"top\">2022-06-01</th>\n      <th rowspan=\"5\" valign=\"top\">West Palm Beach, FL</th>\n      <th>All Residential</th>\n      <td>3111</td>\n      <td>22.9</td>\n      <td>2514</td>\n      <td>67.8</td>\n      <td>2117</td>\n      <td>67.8</td>\n      <td>465000</td>\n      <td>24.0</td>\n    </tr>\n    <tr>\n      <th>Condo/Co-op</th>\n      <td>3111</td>\n      <td>22.9</td>\n      <td>1460</td>\n      <td>76.3</td>\n      <td>1229</td>\n      <td>76.3</td>\n      <td>270000</td>\n      <td>30.3</td>\n    </tr>\n    <tr>\n      <th>Multi-Family (2-4 Unit)</th>\n      <td>3111</td>\n      <td>22.9</td>\n      <td>2433</td>\n      <td>68.9</td>\n      <td>2049</td>\n      <td>68.9</td>\n      <td>450000</td>\n      <td>24.8</td>\n    </tr>\n    <tr>\n      <th>Single Family Residential</th>\n      <td>3111</td>\n      <td>22.9</td>\n      <td>3622</td>\n      <td>72.7</td>\n      <td>3050</td>\n      <td>72.7</td>\n      <td>670000</td>\n      <td>27.6</td>\n    </tr>\n    <tr>\n      <th>Townhouse</th>\n      <td>3111</td>\n      <td>22.9</td>\n      <td>2000</td>\n      <td>82.1</td>\n      <td>1684</td>\n      <td>82.1</td>\n      <td>370000</td>\n      <td>34.5</td>\n    </tr>\n  </tbody>\n</table>\n<p>4447 rows × 8 columns</p>\n</div>"
     },
     "execution_count": 3,
     "metadata": {},
     "output_type": "execute_result"
    }
   ],
   "source": [
    "#reading the csv, setting the linebreak as 'tab', setting datetime format for the Month index, and setting three indexes (month, region, proptype)\n",
    "main_df = app.get_main_df()\n",
    "main_df"
   ]
  },
  {
   "cell_type": "code",
   "execution_count": 4,
   "id": "bfa9a0ee-605f-45c4-bdec-d85922619bee",
   "metadata": {},
   "outputs": [
    {
     "data": {
      "text/plain": "Average Monthly Rent                1604.0\nAverage Rent YoY                       NaN\nMonthly mortgage, 5% down           1190.0\nMonthly mortgage, 5% down YoY          NaN\nMonthly mortgage, 20% down          1002.0\nMonthly mortgage, 20% down YoY         NaN\nMedian sale price                 251031.0\nMedian sale price YoY                  4.1\nName: (2019-02-01 00:00:00, National, Townhouse), dtype: float64"
     },
     "execution_count": 4,
     "metadata": {},
     "output_type": "execute_result"
    }
   ],
   "source": [
    "main_df.loc['2019-02-01', 'National', 'Townhouse']\n",
    "#Since there are three indexes, you can use .loc to specifically find the datapoint as per Time/Region/Type\n",
    "#If you want to refer to the actual datapoint and not this list of data, see the next cell."
   ]
  },
  {
   "cell_type": "code",
   "execution_count": 8,
   "outputs": [
    {
     "data": {
      "text/plain": "['Anaheim, CA',\n 'Atlanta, GA',\n 'Austin, TX',\n 'Baltimore, MD',\n 'Boston, MA',\n 'Charlotte, NC',\n 'Chicago, IL',\n 'Cincinnati, OH',\n 'Cleveland, OH',\n 'Columbus, OH',\n 'Dallas, TX',\n 'Denver, CO',\n 'Detroit, MI',\n 'Fort Lauderdale, FL',\n 'Fort Worth, TX',\n 'Houston, TX',\n 'Indianapolis, IN',\n 'Jacksonville, FL',\n 'Kansas City, MO',\n 'Las Vegas, NV',\n 'Los Angeles, CA',\n 'Miami, FL',\n 'Milwaukee, WI',\n 'Minneapolis, MN',\n 'Montgomery County, PA',\n 'Nashville, TN',\n 'Nassau County, NY',\n 'National',\n 'New Brunswick, NJ',\n 'New York, NY',\n 'Newark, NJ',\n 'Oakland, CA',\n 'Orlando, FL',\n 'Philadelphia, PA',\n 'Phoenix, AZ',\n 'Pittsburgh, PA',\n 'Portland, OR',\n 'Providence, RI',\n 'Riverside, CA',\n 'Sacramento, CA',\n 'San Antonio, TX',\n 'San Diego, CA',\n 'San Francisco, CA',\n 'San Jose, CA',\n 'Seattle, WA',\n 'St. Louis, MO',\n 'Tampa, FL',\n 'Virginia Beach, VA',\n 'Warren, MI',\n 'Washington, DC',\n 'West Palm Beach, FL']"
     },
     "execution_count": 8,
     "metadata": {},
     "output_type": "execute_result"
    }
   ],
   "source": [
    "main_df.reset_index(inplace=True)\n",
    "main_df['Region'].unique().tolist()"
   ],
   "metadata": {
    "collapsed": false
   }
  },
  {
   "cell_type": "code",
   "execution_count": 13,
   "id": "170d2adc-5216-4c7c-938e-f1fa9dc174a9",
   "metadata": {},
   "outputs": [
    {
     "data": {
      "text/plain": "1190"
     },
     "execution_count": 13,
     "metadata": {},
     "output_type": "execute_result"
    }
   ],
   "source": [
    "#Add another slice syntax [] and put the datapoint's index position from the list seen above (0, 1, 2,... starting from the first value top right)\n",
    "#In this case, I added 3 which should show the 'Monthly Mortgage, 5% down YoY', so it should show '$1,190'\n",
    "\n",
    "example_data = main_df.loc['2019-02-01', 'National', 'Townhouse'][2]\n",
    "\n",
    "#to convert this string to an int, we need to add the int() function as well\n",
    "example_data = int(main_df.loc['2019-02-01', 'National', 'Townhouse'][2])\n",
    "\n",
    "#to convert this string to an int, we need to use the int() function\n",
    "example_data"
   ]
  },
  {
   "cell_type": "code",
   "execution_count": 14,
   "id": "fec993d2-0bce-43a6-84ef-5bbab8ce2ac6",
   "metadata": {},
   "outputs": [],
   "source": [
    "#ignore this, keeping for personal references\n",
    "#idx = pd.IndexSlice\n",
    "#slice_example_df = main_df.loc[idx[: , :], :]\n",
    "#slice_example_df"
   ]
  },
  {
   "cell_type": "code",
   "execution_count": 15,
   "id": "5d7ace87-aa42-4893-8418-030afbfc97da",
   "metadata": {},
   "outputs": [
    {
     "data": {
      "text/plain": "                                                  Average Monthly Rent  \\\nMonth      Region      For-Sale Property Type                            \n2021-02-01 Anaheim, CA All Residential                            3020   \n                       Condo/Co-op                                3020   \n                       Multi-Family (2-4 Unit)                    3020   \n                       Single Family Residential                  3020   \n                       Townhouse                                  3020   \n\n                                                  Average Rent YoY  \\\nMonth      Region      For-Sale Property Type                        \n2021-02-01 Anaheim, CA All Residential                         NaN   \n                       Condo/Co-op                             NaN   \n                       Multi-Family (2-4 Unit)                 NaN   \n                       Single Family Residential               NaN   \n                       Townhouse                               NaN   \n\n                                                  Monthly mortgage, 5% down  \\\nMonth      Region      For-Sale Property Type                                 \n2021-02-01 Anaheim, CA All Residential                                 3225   \n                       Condo/Co-op                                     2115   \n                       Multi-Family (2-4 Unit)                         5535   \n                       Single Family Residential                       3811   \n                       Townhouse                                       2576   \n\n                                                  Monthly mortgage, 5% down YoY  \\\nMonth      Region      For-Sale Property Type                                     \n2021-02-01 Anaheim, CA All Residential                                      NaN   \n                       Condo/Co-op                                          NaN   \n                       Multi-Family (2-4 Unit)                              NaN   \n                       Single Family Residential                            NaN   \n                       Townhouse                                            NaN   \n\n                                                  Monthly mortgage, 20% down  \\\nMonth      Region      For-Sale Property Type                                  \n2021-02-01 Anaheim, CA All Residential                                  2715   \n                       Condo/Co-op                                      1781   \n                       Multi-Family (2-4 Unit)                          4661   \n                       Single Family Residential                        3209   \n                       Townhouse                                        2169   \n\n                                                  Monthly mortgage, 20% down YoY  \\\nMonth      Region      For-Sale Property Type                                      \n2021-02-01 Anaheim, CA All Residential                                       NaN   \n                       Condo/Co-op                                           NaN   \n                       Multi-Family (2-4 Unit)                               NaN   \n                       Single Family Residential                             NaN   \n                       Townhouse                                             NaN   \n\n                                                  Median sale price  \\\nMonth      Region      For-Sale Property Type                         \n2021-02-01 Anaheim, CA All Residential                       825000   \n                       Condo/Co-op                           541000   \n                       Multi-Family (2-4 Unit)              1416000   \n                       Single Family Residential             975000   \n                       Townhouse                             659000   \n\n                                                  Median sale price YoY  \nMonth      Region      For-Sale Property Type                            \n2021-02-01 Anaheim, CA All Residential                             10.0  \n                       Condo/Co-op                                  7.9  \n                       Multi-Family (2-4 Unit)                     34.0  \n                       Single Family Residential                   12.1  \n                       Townhouse                                   15.0  ",
      "text/html": "<div>\n<style scoped>\n    .dataframe tbody tr th:only-of-type {\n        vertical-align: middle;\n    }\n\n    .dataframe tbody tr th {\n        vertical-align: top;\n    }\n\n    .dataframe thead th {\n        text-align: right;\n    }\n</style>\n<table border=\"1\" class=\"dataframe\">\n  <thead>\n    <tr style=\"text-align: right;\">\n      <th></th>\n      <th></th>\n      <th></th>\n      <th>Average Monthly Rent</th>\n      <th>Average Rent YoY</th>\n      <th>Monthly mortgage, 5% down</th>\n      <th>Monthly mortgage, 5% down YoY</th>\n      <th>Monthly mortgage, 20% down</th>\n      <th>Monthly mortgage, 20% down YoY</th>\n      <th>Median sale price</th>\n      <th>Median sale price YoY</th>\n    </tr>\n    <tr>\n      <th>Month</th>\n      <th>Region</th>\n      <th>For-Sale Property Type</th>\n      <th></th>\n      <th></th>\n      <th></th>\n      <th></th>\n      <th></th>\n      <th></th>\n      <th></th>\n      <th></th>\n    </tr>\n  </thead>\n  <tbody>\n    <tr>\n      <th rowspan=\"5\" valign=\"top\">2021-02-01</th>\n      <th rowspan=\"5\" valign=\"top\">Anaheim, CA</th>\n      <th>All Residential</th>\n      <td>3020</td>\n      <td>NaN</td>\n      <td>3225</td>\n      <td>NaN</td>\n      <td>2715</td>\n      <td>NaN</td>\n      <td>825000</td>\n      <td>10.0</td>\n    </tr>\n    <tr>\n      <th>Condo/Co-op</th>\n      <td>3020</td>\n      <td>NaN</td>\n      <td>2115</td>\n      <td>NaN</td>\n      <td>1781</td>\n      <td>NaN</td>\n      <td>541000</td>\n      <td>7.9</td>\n    </tr>\n    <tr>\n      <th>Multi-Family (2-4 Unit)</th>\n      <td>3020</td>\n      <td>NaN</td>\n      <td>5535</td>\n      <td>NaN</td>\n      <td>4661</td>\n      <td>NaN</td>\n      <td>1416000</td>\n      <td>34.0</td>\n    </tr>\n    <tr>\n      <th>Single Family Residential</th>\n      <td>3020</td>\n      <td>NaN</td>\n      <td>3811</td>\n      <td>NaN</td>\n      <td>3209</td>\n      <td>NaN</td>\n      <td>975000</td>\n      <td>12.1</td>\n    </tr>\n    <tr>\n      <th>Townhouse</th>\n      <td>3020</td>\n      <td>NaN</td>\n      <td>2576</td>\n      <td>NaN</td>\n      <td>2169</td>\n      <td>NaN</td>\n      <td>659000</td>\n      <td>15.0</td>\n    </tr>\n  </tbody>\n</table>\n</div>"
     },
     "execution_count": 15,
     "metadata": {},
     "output_type": "execute_result"
    }
   ],
   "source": [
    "main_df.head()"
   ]
  },
  {
   "cell_type": "code",
   "execution_count": 16,
   "id": "1e71864f-bd38-494a-914e-c5f10a79062d",
   "metadata": {},
   "outputs": [
    {
     "data": {
      "text/plain": "Average Monthly Rent                int32\nAverage Rent YoY                  float64\nMonthly mortgage, 5% down           int32\nMonthly mortgage, 5% down YoY     float64\nMonthly mortgage, 20% down          int32\nMonthly mortgage, 20% down YoY    float64\nMedian sale price                   int32\nMedian sale price YoY             float64\ndtype: object"
     },
     "execution_count": 16,
     "metadata": {},
     "output_type": "execute_result"
    }
   ],
   "source": [
    "main_df.dtypes"
   ]
  },
  {
   "cell_type": "code",
   "execution_count": 19,
   "outputs": [
    {
     "data": {
      "text/plain": "                                    Average Monthly Rent  Average Rent YoY  \\\nRegion   For-Sale Property Type                                              \nNational All Residential                            1604               NaN   \n         Condo/Co-op                                1604               NaN   \n         Multi-Family (2-4 Unit)                    1604               NaN   \n         Single Family Residential                  1604               NaN   \n         Single Units Only                          1604               NaN   \n         Townhouse                                  1604               NaN   \n\n                                    Monthly mortgage, 5% down  \\\nRegion   For-Sale Property Type                                 \nNational All Residential                                 1300   \n         Condo/Co-op                                     1138   \n         Multi-Family (2-4 Unit)                         1368   \n         Single Family Residential                       1339   \n         Single Units Only                               1303   \n         Townhouse                                       1190   \n\n                                    Monthly mortgage, 5% down YoY  \\\nRegion   For-Sale Property Type                                     \nNational All Residential                                      NaN   \n         Condo/Co-op                                          NaN   \n         Multi-Family (2-4 Unit)                              NaN   \n         Single Family Residential                            NaN   \n         Single Units Only                                    NaN   \n         Townhouse                                            NaN   \n\n                                    Monthly mortgage, 20% down  \\\nRegion   For-Sale Property Type                                  \nNational All Residential                                  1095   \n         Condo/Co-op                                       958   \n         Multi-Family (2-4 Unit)                          1152   \n         Single Family Residential                        1127   \n         Single Units Only                                1098   \n         Townhouse                                        1002   \n\n                                    Monthly mortgage, 20% down YoY  \\\nRegion   For-Sale Property Type                                      \nNational All Residential                                       NaN   \n         Condo/Co-op                                           NaN   \n         Multi-Family (2-4 Unit)                               NaN   \n         Single Family Residential                             NaN   \n         Single Units Only                                     NaN   \n         Townhouse                                             NaN   \n\n                                    Median sale price  Median sale price YoY  \nRegion   For-Sale Property Type                                               \nNational All Residential                       274287                    2.6  \n         Condo/Co-op                           240027                    1.1  \n         Multi-Family (2-4 Unit)               288651                    5.9  \n         Single Family Residential             282435                    3.0  \n         Single Units Only                     274963                    3.0  \n         Townhouse                             251031                    4.1  ",
      "text/html": "<div>\n<style scoped>\n    .dataframe tbody tr th:only-of-type {\n        vertical-align: middle;\n    }\n\n    .dataframe tbody tr th {\n        vertical-align: top;\n    }\n\n    .dataframe thead th {\n        text-align: right;\n    }\n</style>\n<table border=\"1\" class=\"dataframe\">\n  <thead>\n    <tr style=\"text-align: right;\">\n      <th></th>\n      <th></th>\n      <th>Average Monthly Rent</th>\n      <th>Average Rent YoY</th>\n      <th>Monthly mortgage, 5% down</th>\n      <th>Monthly mortgage, 5% down YoY</th>\n      <th>Monthly mortgage, 20% down</th>\n      <th>Monthly mortgage, 20% down YoY</th>\n      <th>Median sale price</th>\n      <th>Median sale price YoY</th>\n    </tr>\n    <tr>\n      <th>Region</th>\n      <th>For-Sale Property Type</th>\n      <th></th>\n      <th></th>\n      <th></th>\n      <th></th>\n      <th></th>\n      <th></th>\n      <th></th>\n      <th></th>\n    </tr>\n  </thead>\n  <tbody>\n    <tr>\n      <th rowspan=\"6\" valign=\"top\">National</th>\n      <th>All Residential</th>\n      <td>1604</td>\n      <td>NaN</td>\n      <td>1300</td>\n      <td>NaN</td>\n      <td>1095</td>\n      <td>NaN</td>\n      <td>274287</td>\n      <td>2.6</td>\n    </tr>\n    <tr>\n      <th>Condo/Co-op</th>\n      <td>1604</td>\n      <td>NaN</td>\n      <td>1138</td>\n      <td>NaN</td>\n      <td>958</td>\n      <td>NaN</td>\n      <td>240027</td>\n      <td>1.1</td>\n    </tr>\n    <tr>\n      <th>Multi-Family (2-4 Unit)</th>\n      <td>1604</td>\n      <td>NaN</td>\n      <td>1368</td>\n      <td>NaN</td>\n      <td>1152</td>\n      <td>NaN</td>\n      <td>288651</td>\n      <td>5.9</td>\n    </tr>\n    <tr>\n      <th>Single Family Residential</th>\n      <td>1604</td>\n      <td>NaN</td>\n      <td>1339</td>\n      <td>NaN</td>\n      <td>1127</td>\n      <td>NaN</td>\n      <td>282435</td>\n      <td>3.0</td>\n    </tr>\n    <tr>\n      <th>Single Units Only</th>\n      <td>1604</td>\n      <td>NaN</td>\n      <td>1303</td>\n      <td>NaN</td>\n      <td>1098</td>\n      <td>NaN</td>\n      <td>274963</td>\n      <td>3.0</td>\n    </tr>\n    <tr>\n      <th>Townhouse</th>\n      <td>1604</td>\n      <td>NaN</td>\n      <td>1190</td>\n      <td>NaN</td>\n      <td>1002</td>\n      <td>NaN</td>\n      <td>251031</td>\n      <td>4.1</td>\n    </tr>\n  </tbody>\n</table>\n</div>"
     },
     "execution_count": 19,
     "metadata": {},
     "output_type": "execute_result"
    }
   ],
   "source": [
    "main_df.loc['2019-02-01']"
   ],
   "metadata": {
    "collapsed": false
   }
  },
  {
   "cell_type": "code",
   "execution_count": null,
   "outputs": [],
   "source": [],
   "metadata": {
    "collapsed": false
   }
  }
 ],
 "metadata": {
  "kernelspec": {
   "display_name": "Python 3 (ipykernel)",
   "language": "python",
   "name": "python3"
  },
  "language_info": {
   "codemirror_mode": {
    "name": "ipython",
    "version": 3
   },
   "file_extension": ".py",
   "mimetype": "text/x-python",
   "name": "python",
   "nbconvert_exporter": "python",
   "pygments_lexer": "ipython3",
   "version": "3.9.13"
  }
 },
 "nbformat": 4,
 "nbformat_minor": 5
}
